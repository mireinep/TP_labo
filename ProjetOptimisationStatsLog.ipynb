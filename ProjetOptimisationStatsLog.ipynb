{
 "cells": [
  {
   "cell_type": "code",
   "execution_count": 1,
   "metadata": {
    "scrolled": true
   },
   "outputs": [
    {
     "data": {
      "text/html": [
       "<div>\n",
       "<style scoped>\n",
       "    .dataframe tbody tr th:only-of-type {\n",
       "        vertical-align: middle;\n",
       "    }\n",
       "\n",
       "    .dataframe tbody tr th {\n",
       "        vertical-align: top;\n",
       "    }\n",
       "\n",
       "    .dataframe thead th {\n",
       "        text-align: right;\n",
       "    }\n",
       "</style>\n",
       "<table border=\"1\" class=\"dataframe\">\n",
       "  <thead>\n",
       "    <tr style=\"text-align: right;\">\n",
       "      <th></th>\n",
       "      <th>ID</th>\n",
       "      <th>entrance_date</th>\n",
       "      <th>discharge_date</th>\n",
       "      <th>Gender</th>\n",
       "      <th>Age</th>\n",
       "      <th>Disease</th>\n",
       "      <th>Service</th>\n",
       "    </tr>\n",
       "  </thead>\n",
       "  <tbody>\n",
       "    <tr>\n",
       "      <th>0</th>\n",
       "      <td>1</td>\n",
       "      <td>1/2/2010</td>\n",
       "      <td>1/7/2010</td>\n",
       "      <td>F</td>\n",
       "      <td>12</td>\n",
       "      <td>palustose</td>\n",
       "      <td>Pediatrie</td>\n",
       "    </tr>\n",
       "    <tr>\n",
       "      <th>1</th>\n",
       "      <td>2</td>\n",
       "      <td>1/2/2010</td>\n",
       "      <td>1/8/2010</td>\n",
       "      <td>F</td>\n",
       "      <td>30</td>\n",
       "      <td>diabete</td>\n",
       "      <td>Hospitalisation</td>\n",
       "    </tr>\n",
       "    <tr>\n",
       "      <th>2</th>\n",
       "      <td>3</td>\n",
       "      <td>1/2/2010</td>\n",
       "      <td>1/9/2010</td>\n",
       "      <td>M</td>\n",
       "      <td>6</td>\n",
       "      <td>hernie</td>\n",
       "      <td>Pediatrie</td>\n",
       "    </tr>\n",
       "    <tr>\n",
       "      <th>3</th>\n",
       "      <td>4</td>\n",
       "      <td>1/2/2010</td>\n",
       "      <td>1/10/2010</td>\n",
       "      <td>M</td>\n",
       "      <td>23</td>\n",
       "      <td>infection et diabete</td>\n",
       "      <td>Hospitalisation</td>\n",
       "    </tr>\n",
       "    <tr>\n",
       "      <th>4</th>\n",
       "      <td>5</td>\n",
       "      <td>1/2/2010</td>\n",
       "      <td>1/11/2010</td>\n",
       "      <td>M</td>\n",
       "      <td>22</td>\n",
       "      <td>KOD</td>\n",
       "      <td>Gynecologie</td>\n",
       "    </tr>\n",
       "    <tr>\n",
       "      <th>...</th>\n",
       "      <td>...</td>\n",
       "      <td>...</td>\n",
       "      <td>...</td>\n",
       "      <td>...</td>\n",
       "      <td>...</td>\n",
       "      <td>...</td>\n",
       "      <td>...</td>\n",
       "    </tr>\n",
       "    <tr>\n",
       "      <th>833</th>\n",
       "      <td>834</td>\n",
       "      <td>8/21/2021</td>\n",
       "      <td>7/31/2021</td>\n",
       "      <td>M</td>\n",
       "      <td>3 jours</td>\n",
       "      <td>risque infectieux</td>\n",
       "      <td>Neonatologie</td>\n",
       "    </tr>\n",
       "    <tr>\n",
       "      <th>834</th>\n",
       "      <td>835</td>\n",
       "      <td>8/22/2021</td>\n",
       "      <td>8/1/2021</td>\n",
       "      <td>F</td>\n",
       "      <td>4 jours</td>\n",
       "      <td>bebe macroso</td>\n",
       "      <td>Neonatologie</td>\n",
       "    </tr>\n",
       "    <tr>\n",
       "      <th>835</th>\n",
       "      <td>836</td>\n",
       "      <td>8/23/2021</td>\n",
       "      <td>8/2/2021</td>\n",
       "      <td>M</td>\n",
       "      <td>5 jours</td>\n",
       "      <td>Faible poids de naissance</td>\n",
       "      <td>Neonatologie</td>\n",
       "    </tr>\n",
       "    <tr>\n",
       "      <th>836</th>\n",
       "      <td>837</td>\n",
       "      <td>8/24/2021</td>\n",
       "      <td>8/3/2021</td>\n",
       "      <td>M</td>\n",
       "      <td>6 jours</td>\n",
       "      <td>Faible poids de naissance</td>\n",
       "      <td>Neonatologie</td>\n",
       "    </tr>\n",
       "    <tr>\n",
       "      <th>837</th>\n",
       "      <td>838</td>\n",
       "      <td>8/25/2021</td>\n",
       "      <td>8/4/2021</td>\n",
       "      <td>F</td>\n",
       "      <td>7 jours</td>\n",
       "      <td>macroso</td>\n",
       "      <td>Neonatologie</td>\n",
       "    </tr>\n",
       "  </tbody>\n",
       "</table>\n",
       "<p>838 rows × 7 columns</p>\n",
       "</div>"
      ],
      "text/plain": [
       "      ID entrance_date discharge_date Gender      Age  \\\n",
       "0      1      1/2/2010       1/7/2010      F       12   \n",
       "1      2      1/2/2010       1/8/2010      F       30   \n",
       "2      3      1/2/2010       1/9/2010      M        6   \n",
       "3      4      1/2/2010      1/10/2010      M       23   \n",
       "4      5      1/2/2010      1/11/2010      M       22   \n",
       "..   ...           ...            ...    ...      ...   \n",
       "833  834     8/21/2021      7/31/2021      M  3 jours   \n",
       "834  835     8/22/2021       8/1/2021      F  4 jours   \n",
       "835  836     8/23/2021       8/2/2021      M  5 jours   \n",
       "836  837     8/24/2021       8/3/2021      M  6 jours   \n",
       "837  838     8/25/2021       8/4/2021      F  7 jours   \n",
       "\n",
       "                       Disease          Service  \n",
       "0                    palustose        Pediatrie  \n",
       "1                      diabete  Hospitalisation  \n",
       "2                       hernie        Pediatrie  \n",
       "3         infection et diabete  Hospitalisation  \n",
       "4                          KOD      Gynecologie  \n",
       "..                         ...              ...  \n",
       "833          risque infectieux     Neonatologie  \n",
       "834               bebe macroso     Neonatologie  \n",
       "835  Faible poids de naissance     Neonatologie  \n",
       "836  Faible poids de naissance     Neonatologie  \n",
       "837                    macroso     Neonatologie  \n",
       "\n",
       "[838 rows x 7 columns]"
      ]
     },
     "execution_count": 1,
     "metadata": {},
     "output_type": "execute_result"
    }
   ],
   "source": [
    "import pandas as pd\n",
    "data=pd.read_csv('mon_dataset_ok.csv')\n",
    "data"
   ]
  },
  {
   "cell_type": "code",
   "execution_count": 2,
   "metadata": {},
   "outputs": [
    {
     "name": "stdout",
     "output_type": "stream",
     "text": [
      "<class 'pandas.core.frame.DataFrame'>\n",
      "RangeIndex: 838 entries, 0 to 837\n",
      "Data columns (total 7 columns):\n",
      " #   Column          Non-Null Count  Dtype \n",
      "---  ------          --------------  ----- \n",
      " 0   ID              838 non-null    int64 \n",
      " 1   entrance_date   837 non-null    object\n",
      " 2   discharge_date  837 non-null    object\n",
      " 3   Gender          838 non-null    object\n",
      " 4   Age             838 non-null    object\n",
      " 5   Disease         838 non-null    object\n",
      " 6   Service         837 non-null    object\n",
      "dtypes: int64(1), object(6)\n",
      "memory usage: 46.0+ KB\n"
     ]
    }
   ],
   "source": [
    "data.info()"
   ]
  },
  {
   "cell_type": "markdown",
   "metadata": {},
   "source": [
    "# Traitement des données"
   ]
  },
  {
   "cell_type": "code",
   "execution_count": 3,
   "metadata": {},
   "outputs": [],
   "source": [
    "data['Date_entree']=pd.to_datetime(data['entrance_date'])\n",
    "data['Date_sortie']=pd.to_datetime(data['discharge_date'])"
   ]
  },
  {
   "cell_type": "code",
   "execution_count": 4,
   "metadata": {},
   "outputs": [
    {
     "data": {
      "text/html": [
       "<div>\n",
       "<style scoped>\n",
       "    .dataframe tbody tr th:only-of-type {\n",
       "        vertical-align: middle;\n",
       "    }\n",
       "\n",
       "    .dataframe tbody tr th {\n",
       "        vertical-align: top;\n",
       "    }\n",
       "\n",
       "    .dataframe thead th {\n",
       "        text-align: right;\n",
       "    }\n",
       "</style>\n",
       "<table border=\"1\" class=\"dataframe\">\n",
       "  <thead>\n",
       "    <tr style=\"text-align: right;\">\n",
       "      <th></th>\n",
       "      <th>ID</th>\n",
       "      <th>entrance_date</th>\n",
       "      <th>discharge_date</th>\n",
       "      <th>Gender</th>\n",
       "      <th>Age</th>\n",
       "      <th>Disease</th>\n",
       "      <th>Service</th>\n",
       "      <th>Date_entree</th>\n",
       "      <th>Date_sortie</th>\n",
       "      <th>Nbr_Jours</th>\n",
       "    </tr>\n",
       "  </thead>\n",
       "  <tbody>\n",
       "    <tr>\n",
       "      <th>0</th>\n",
       "      <td>1</td>\n",
       "      <td>1/2/2010</td>\n",
       "      <td>1/7/2010</td>\n",
       "      <td>F</td>\n",
       "      <td>12</td>\n",
       "      <td>palustose</td>\n",
       "      <td>Pediatrie</td>\n",
       "      <td>2010-01-02</td>\n",
       "      <td>2010-01-07</td>\n",
       "      <td>5 days</td>\n",
       "    </tr>\n",
       "    <tr>\n",
       "      <th>1</th>\n",
       "      <td>2</td>\n",
       "      <td>1/2/2010</td>\n",
       "      <td>1/8/2010</td>\n",
       "      <td>F</td>\n",
       "      <td>30</td>\n",
       "      <td>diabete</td>\n",
       "      <td>Hospitalisation</td>\n",
       "      <td>2010-01-02</td>\n",
       "      <td>2010-01-08</td>\n",
       "      <td>6 days</td>\n",
       "    </tr>\n",
       "    <tr>\n",
       "      <th>2</th>\n",
       "      <td>3</td>\n",
       "      <td>1/2/2010</td>\n",
       "      <td>1/9/2010</td>\n",
       "      <td>M</td>\n",
       "      <td>6</td>\n",
       "      <td>hernie</td>\n",
       "      <td>Pediatrie</td>\n",
       "      <td>2010-01-02</td>\n",
       "      <td>2010-01-09</td>\n",
       "      <td>7 days</td>\n",
       "    </tr>\n",
       "    <tr>\n",
       "      <th>3</th>\n",
       "      <td>4</td>\n",
       "      <td>1/2/2010</td>\n",
       "      <td>1/10/2010</td>\n",
       "      <td>M</td>\n",
       "      <td>23</td>\n",
       "      <td>infection et diabete</td>\n",
       "      <td>Hospitalisation</td>\n",
       "      <td>2010-01-02</td>\n",
       "      <td>2010-01-10</td>\n",
       "      <td>8 days</td>\n",
       "    </tr>\n",
       "    <tr>\n",
       "      <th>4</th>\n",
       "      <td>5</td>\n",
       "      <td>1/2/2010</td>\n",
       "      <td>1/11/2010</td>\n",
       "      <td>M</td>\n",
       "      <td>22</td>\n",
       "      <td>KOD</td>\n",
       "      <td>Gynecologie</td>\n",
       "      <td>2010-01-02</td>\n",
       "      <td>2010-01-11</td>\n",
       "      <td>9 days</td>\n",
       "    </tr>\n",
       "    <tr>\n",
       "      <th>...</th>\n",
       "      <td>...</td>\n",
       "      <td>...</td>\n",
       "      <td>...</td>\n",
       "      <td>...</td>\n",
       "      <td>...</td>\n",
       "      <td>...</td>\n",
       "      <td>...</td>\n",
       "      <td>...</td>\n",
       "      <td>...</td>\n",
       "      <td>...</td>\n",
       "    </tr>\n",
       "    <tr>\n",
       "      <th>833</th>\n",
       "      <td>834</td>\n",
       "      <td>8/21/2021</td>\n",
       "      <td>7/31/2021</td>\n",
       "      <td>M</td>\n",
       "      <td>3 jours</td>\n",
       "      <td>risque infectieux</td>\n",
       "      <td>Neonatologie</td>\n",
       "      <td>2021-08-21</td>\n",
       "      <td>2021-07-31</td>\n",
       "      <td>-21 days</td>\n",
       "    </tr>\n",
       "    <tr>\n",
       "      <th>834</th>\n",
       "      <td>835</td>\n",
       "      <td>8/22/2021</td>\n",
       "      <td>8/1/2021</td>\n",
       "      <td>F</td>\n",
       "      <td>4 jours</td>\n",
       "      <td>bebe macroso</td>\n",
       "      <td>Neonatologie</td>\n",
       "      <td>2021-08-22</td>\n",
       "      <td>2021-08-01</td>\n",
       "      <td>-21 days</td>\n",
       "    </tr>\n",
       "    <tr>\n",
       "      <th>835</th>\n",
       "      <td>836</td>\n",
       "      <td>8/23/2021</td>\n",
       "      <td>8/2/2021</td>\n",
       "      <td>M</td>\n",
       "      <td>5 jours</td>\n",
       "      <td>Faible poids de naissance</td>\n",
       "      <td>Neonatologie</td>\n",
       "      <td>2021-08-23</td>\n",
       "      <td>2021-08-02</td>\n",
       "      <td>-21 days</td>\n",
       "    </tr>\n",
       "    <tr>\n",
       "      <th>836</th>\n",
       "      <td>837</td>\n",
       "      <td>8/24/2021</td>\n",
       "      <td>8/3/2021</td>\n",
       "      <td>M</td>\n",
       "      <td>6 jours</td>\n",
       "      <td>Faible poids de naissance</td>\n",
       "      <td>Neonatologie</td>\n",
       "      <td>2021-08-24</td>\n",
       "      <td>2021-08-03</td>\n",
       "      <td>-21 days</td>\n",
       "    </tr>\n",
       "    <tr>\n",
       "      <th>837</th>\n",
       "      <td>838</td>\n",
       "      <td>8/25/2021</td>\n",
       "      <td>8/4/2021</td>\n",
       "      <td>F</td>\n",
       "      <td>7 jours</td>\n",
       "      <td>macroso</td>\n",
       "      <td>Neonatologie</td>\n",
       "      <td>2021-08-25</td>\n",
       "      <td>2021-08-04</td>\n",
       "      <td>-21 days</td>\n",
       "    </tr>\n",
       "  </tbody>\n",
       "</table>\n",
       "<p>838 rows × 10 columns</p>\n",
       "</div>"
      ],
      "text/plain": [
       "      ID entrance_date discharge_date Gender      Age  \\\n",
       "0      1      1/2/2010       1/7/2010      F       12   \n",
       "1      2      1/2/2010       1/8/2010      F       30   \n",
       "2      3      1/2/2010       1/9/2010      M        6   \n",
       "3      4      1/2/2010      1/10/2010      M       23   \n",
       "4      5      1/2/2010      1/11/2010      M       22   \n",
       "..   ...           ...            ...    ...      ...   \n",
       "833  834     8/21/2021      7/31/2021      M  3 jours   \n",
       "834  835     8/22/2021       8/1/2021      F  4 jours   \n",
       "835  836     8/23/2021       8/2/2021      M  5 jours   \n",
       "836  837     8/24/2021       8/3/2021      M  6 jours   \n",
       "837  838     8/25/2021       8/4/2021      F  7 jours   \n",
       "\n",
       "                       Disease          Service Date_entree Date_sortie  \\\n",
       "0                    palustose        Pediatrie  2010-01-02  2010-01-07   \n",
       "1                      diabete  Hospitalisation  2010-01-02  2010-01-08   \n",
       "2                       hernie        Pediatrie  2010-01-02  2010-01-09   \n",
       "3         infection et diabete  Hospitalisation  2010-01-02  2010-01-10   \n",
       "4                          KOD      Gynecologie  2010-01-02  2010-01-11   \n",
       "..                         ...              ...         ...         ...   \n",
       "833          risque infectieux     Neonatologie  2021-08-21  2021-07-31   \n",
       "834               bebe macroso     Neonatologie  2021-08-22  2021-08-01   \n",
       "835  Faible poids de naissance     Neonatologie  2021-08-23  2021-08-02   \n",
       "836  Faible poids de naissance     Neonatologie  2021-08-24  2021-08-03   \n",
       "837                    macroso     Neonatologie  2021-08-25  2021-08-04   \n",
       "\n",
       "    Nbr_Jours  \n",
       "0      5 days  \n",
       "1      6 days  \n",
       "2      7 days  \n",
       "3      8 days  \n",
       "4      9 days  \n",
       "..        ...  \n",
       "833  -21 days  \n",
       "834  -21 days  \n",
       "835  -21 days  \n",
       "836  -21 days  \n",
       "837  -21 days  \n",
       "\n",
       "[838 rows x 10 columns]"
      ]
     },
     "execution_count": 4,
     "metadata": {},
     "output_type": "execute_result"
    }
   ],
   "source": [
    "data['Nbr_Jours']=data['Date_sortie']-data['Date_entree']\n",
    "data"
   ]
  },
  {
   "cell_type": "code",
   "execution_count": 5,
   "metadata": {},
   "outputs": [],
   "source": [
    "data['Nbr_Jours']=data['Nbr_Jours'].abs()"
   ]
  },
  {
   "cell_type": "code",
   "execution_count": 6,
   "metadata": {},
   "outputs": [
    {
     "data": {
      "text/html": [
       "<div>\n",
       "<style scoped>\n",
       "    .dataframe tbody tr th:only-of-type {\n",
       "        vertical-align: middle;\n",
       "    }\n",
       "\n",
       "    .dataframe tbody tr th {\n",
       "        vertical-align: top;\n",
       "    }\n",
       "\n",
       "    .dataframe thead th {\n",
       "        text-align: right;\n",
       "    }\n",
       "</style>\n",
       "<table border=\"1\" class=\"dataframe\">\n",
       "  <thead>\n",
       "    <tr style=\"text-align: right;\">\n",
       "      <th></th>\n",
       "      <th>ID</th>\n",
       "      <th>entrance_date</th>\n",
       "      <th>discharge_date</th>\n",
       "      <th>Gender</th>\n",
       "      <th>Age</th>\n",
       "      <th>Disease</th>\n",
       "      <th>Service</th>\n",
       "      <th>Date_entree</th>\n",
       "      <th>Date_sortie</th>\n",
       "      <th>Nbr_Jours</th>\n",
       "    </tr>\n",
       "  </thead>\n",
       "  <tbody>\n",
       "    <tr>\n",
       "      <th>0</th>\n",
       "      <td>1</td>\n",
       "      <td>1/2/2010</td>\n",
       "      <td>1/7/2010</td>\n",
       "      <td>F</td>\n",
       "      <td>12</td>\n",
       "      <td>palustose</td>\n",
       "      <td>Pediatrie</td>\n",
       "      <td>2010-01-02</td>\n",
       "      <td>2010-01-07</td>\n",
       "      <td>5 days</td>\n",
       "    </tr>\n",
       "    <tr>\n",
       "      <th>1</th>\n",
       "      <td>2</td>\n",
       "      <td>1/2/2010</td>\n",
       "      <td>1/8/2010</td>\n",
       "      <td>F</td>\n",
       "      <td>30</td>\n",
       "      <td>diabete</td>\n",
       "      <td>Hospitalisation</td>\n",
       "      <td>2010-01-02</td>\n",
       "      <td>2010-01-08</td>\n",
       "      <td>6 days</td>\n",
       "    </tr>\n",
       "    <tr>\n",
       "      <th>2</th>\n",
       "      <td>3</td>\n",
       "      <td>1/2/2010</td>\n",
       "      <td>1/9/2010</td>\n",
       "      <td>M</td>\n",
       "      <td>6</td>\n",
       "      <td>hernie</td>\n",
       "      <td>Pediatrie</td>\n",
       "      <td>2010-01-02</td>\n",
       "      <td>2010-01-09</td>\n",
       "      <td>7 days</td>\n",
       "    </tr>\n",
       "    <tr>\n",
       "      <th>3</th>\n",
       "      <td>4</td>\n",
       "      <td>1/2/2010</td>\n",
       "      <td>1/10/2010</td>\n",
       "      <td>M</td>\n",
       "      <td>23</td>\n",
       "      <td>infection et diabete</td>\n",
       "      <td>Hospitalisation</td>\n",
       "      <td>2010-01-02</td>\n",
       "      <td>2010-01-10</td>\n",
       "      <td>8 days</td>\n",
       "    </tr>\n",
       "    <tr>\n",
       "      <th>4</th>\n",
       "      <td>5</td>\n",
       "      <td>1/2/2010</td>\n",
       "      <td>1/11/2010</td>\n",
       "      <td>M</td>\n",
       "      <td>22</td>\n",
       "      <td>KOD</td>\n",
       "      <td>Gynecologie</td>\n",
       "      <td>2010-01-02</td>\n",
       "      <td>2010-01-11</td>\n",
       "      <td>9 days</td>\n",
       "    </tr>\n",
       "    <tr>\n",
       "      <th>...</th>\n",
       "      <td>...</td>\n",
       "      <td>...</td>\n",
       "      <td>...</td>\n",
       "      <td>...</td>\n",
       "      <td>...</td>\n",
       "      <td>...</td>\n",
       "      <td>...</td>\n",
       "      <td>...</td>\n",
       "      <td>...</td>\n",
       "      <td>...</td>\n",
       "    </tr>\n",
       "    <tr>\n",
       "      <th>833</th>\n",
       "      <td>834</td>\n",
       "      <td>8/21/2021</td>\n",
       "      <td>7/31/2021</td>\n",
       "      <td>M</td>\n",
       "      <td>3 jours</td>\n",
       "      <td>risque infectieux</td>\n",
       "      <td>Neonatologie</td>\n",
       "      <td>2021-08-21</td>\n",
       "      <td>2021-07-31</td>\n",
       "      <td>21 days</td>\n",
       "    </tr>\n",
       "    <tr>\n",
       "      <th>834</th>\n",
       "      <td>835</td>\n",
       "      <td>8/22/2021</td>\n",
       "      <td>8/1/2021</td>\n",
       "      <td>F</td>\n",
       "      <td>4 jours</td>\n",
       "      <td>bebe macroso</td>\n",
       "      <td>Neonatologie</td>\n",
       "      <td>2021-08-22</td>\n",
       "      <td>2021-08-01</td>\n",
       "      <td>21 days</td>\n",
       "    </tr>\n",
       "    <tr>\n",
       "      <th>835</th>\n",
       "      <td>836</td>\n",
       "      <td>8/23/2021</td>\n",
       "      <td>8/2/2021</td>\n",
       "      <td>M</td>\n",
       "      <td>5 jours</td>\n",
       "      <td>Faible poids de naissance</td>\n",
       "      <td>Neonatologie</td>\n",
       "      <td>2021-08-23</td>\n",
       "      <td>2021-08-02</td>\n",
       "      <td>21 days</td>\n",
       "    </tr>\n",
       "    <tr>\n",
       "      <th>836</th>\n",
       "      <td>837</td>\n",
       "      <td>8/24/2021</td>\n",
       "      <td>8/3/2021</td>\n",
       "      <td>M</td>\n",
       "      <td>6 jours</td>\n",
       "      <td>Faible poids de naissance</td>\n",
       "      <td>Neonatologie</td>\n",
       "      <td>2021-08-24</td>\n",
       "      <td>2021-08-03</td>\n",
       "      <td>21 days</td>\n",
       "    </tr>\n",
       "    <tr>\n",
       "      <th>837</th>\n",
       "      <td>838</td>\n",
       "      <td>8/25/2021</td>\n",
       "      <td>8/4/2021</td>\n",
       "      <td>F</td>\n",
       "      <td>7 jours</td>\n",
       "      <td>macroso</td>\n",
       "      <td>Neonatologie</td>\n",
       "      <td>2021-08-25</td>\n",
       "      <td>2021-08-04</td>\n",
       "      <td>21 days</td>\n",
       "    </tr>\n",
       "  </tbody>\n",
       "</table>\n",
       "<p>838 rows × 10 columns</p>\n",
       "</div>"
      ],
      "text/plain": [
       "      ID entrance_date discharge_date Gender      Age  \\\n",
       "0      1      1/2/2010       1/7/2010      F       12   \n",
       "1      2      1/2/2010       1/8/2010      F       30   \n",
       "2      3      1/2/2010       1/9/2010      M        6   \n",
       "3      4      1/2/2010      1/10/2010      M       23   \n",
       "4      5      1/2/2010      1/11/2010      M       22   \n",
       "..   ...           ...            ...    ...      ...   \n",
       "833  834     8/21/2021      7/31/2021      M  3 jours   \n",
       "834  835     8/22/2021       8/1/2021      F  4 jours   \n",
       "835  836     8/23/2021       8/2/2021      M  5 jours   \n",
       "836  837     8/24/2021       8/3/2021      M  6 jours   \n",
       "837  838     8/25/2021       8/4/2021      F  7 jours   \n",
       "\n",
       "                       Disease          Service Date_entree Date_sortie  \\\n",
       "0                    palustose        Pediatrie  2010-01-02  2010-01-07   \n",
       "1                      diabete  Hospitalisation  2010-01-02  2010-01-08   \n",
       "2                       hernie        Pediatrie  2010-01-02  2010-01-09   \n",
       "3         infection et diabete  Hospitalisation  2010-01-02  2010-01-10   \n",
       "4                          KOD      Gynecologie  2010-01-02  2010-01-11   \n",
       "..                         ...              ...         ...         ...   \n",
       "833          risque infectieux     Neonatologie  2021-08-21  2021-07-31   \n",
       "834               bebe macroso     Neonatologie  2021-08-22  2021-08-01   \n",
       "835  Faible poids de naissance     Neonatologie  2021-08-23  2021-08-02   \n",
       "836  Faible poids de naissance     Neonatologie  2021-08-24  2021-08-03   \n",
       "837                    macroso     Neonatologie  2021-08-25  2021-08-04   \n",
       "\n",
       "    Nbr_Jours  \n",
       "0      5 days  \n",
       "1      6 days  \n",
       "2      7 days  \n",
       "3      8 days  \n",
       "4      9 days  \n",
       "..        ...  \n",
       "833   21 days  \n",
       "834   21 days  \n",
       "835   21 days  \n",
       "836   21 days  \n",
       "837   21 days  \n",
       "\n",
       "[838 rows x 10 columns]"
      ]
     },
     "execution_count": 6,
     "metadata": {},
     "output_type": "execute_result"
    }
   ],
   "source": [
    "data"
   ]
  },
  {
   "cell_type": "code",
   "execution_count": 7,
   "metadata": {},
   "outputs": [
    {
     "name": "stdout",
     "output_type": "stream",
     "text": [
      "<class 'pandas.core.frame.DataFrame'>\n",
      "RangeIndex: 838 entries, 0 to 837\n",
      "Data columns (total 10 columns):\n",
      " #   Column          Non-Null Count  Dtype          \n",
      "---  ------          --------------  -----          \n",
      " 0   ID              838 non-null    int64          \n",
      " 1   entrance_date   837 non-null    object         \n",
      " 2   discharge_date  837 non-null    object         \n",
      " 3   Gender          838 non-null    object         \n",
      " 4   Age             838 non-null    object         \n",
      " 5   Disease         838 non-null    object         \n",
      " 6   Service         837 non-null    object         \n",
      " 7   Date_entree     837 non-null    datetime64[ns] \n",
      " 8   Date_sortie     837 non-null    datetime64[ns] \n",
      " 9   Nbr_Jours       836 non-null    timedelta64[ns]\n",
      "dtypes: datetime64[ns](2), int64(1), object(6), timedelta64[ns](1)\n",
      "memory usage: 65.6+ KB\n"
     ]
    }
   ],
   "source": [
    "data.info()"
   ]
  },
  {
   "cell_type": "code",
   "execution_count": 8,
   "metadata": {},
   "outputs": [],
   "source": [
    "import numpy as np\n",
    "\n",
    "data['Periode']=data['Nbr_Jours']/np.timedelta64(1,'D')"
   ]
  },
  {
   "cell_type": "code",
   "execution_count": 9,
   "metadata": {},
   "outputs": [
    {
     "data": {
      "text/html": [
       "<div>\n",
       "<style scoped>\n",
       "    .dataframe tbody tr th:only-of-type {\n",
       "        vertical-align: middle;\n",
       "    }\n",
       "\n",
       "    .dataframe tbody tr th {\n",
       "        vertical-align: top;\n",
       "    }\n",
       "\n",
       "    .dataframe thead th {\n",
       "        text-align: right;\n",
       "    }\n",
       "</style>\n",
       "<table border=\"1\" class=\"dataframe\">\n",
       "  <thead>\n",
       "    <tr style=\"text-align: right;\">\n",
       "      <th></th>\n",
       "      <th>ID</th>\n",
       "      <th>entrance_date</th>\n",
       "      <th>discharge_date</th>\n",
       "      <th>Gender</th>\n",
       "      <th>Age</th>\n",
       "      <th>Disease</th>\n",
       "      <th>Service</th>\n",
       "      <th>Date_entree</th>\n",
       "      <th>Date_sortie</th>\n",
       "      <th>Nbr_Jours</th>\n",
       "      <th>Periode</th>\n",
       "    </tr>\n",
       "  </thead>\n",
       "  <tbody>\n",
       "    <tr>\n",
       "      <th>0</th>\n",
       "      <td>1</td>\n",
       "      <td>1/2/2010</td>\n",
       "      <td>1/7/2010</td>\n",
       "      <td>F</td>\n",
       "      <td>12</td>\n",
       "      <td>palustose</td>\n",
       "      <td>Pediatrie</td>\n",
       "      <td>2010-01-02</td>\n",
       "      <td>2010-01-07</td>\n",
       "      <td>5 days</td>\n",
       "      <td>5.0</td>\n",
       "    </tr>\n",
       "    <tr>\n",
       "      <th>1</th>\n",
       "      <td>2</td>\n",
       "      <td>1/2/2010</td>\n",
       "      <td>1/8/2010</td>\n",
       "      <td>F</td>\n",
       "      <td>30</td>\n",
       "      <td>diabete</td>\n",
       "      <td>Hospitalisation</td>\n",
       "      <td>2010-01-02</td>\n",
       "      <td>2010-01-08</td>\n",
       "      <td>6 days</td>\n",
       "      <td>6.0</td>\n",
       "    </tr>\n",
       "    <tr>\n",
       "      <th>2</th>\n",
       "      <td>3</td>\n",
       "      <td>1/2/2010</td>\n",
       "      <td>1/9/2010</td>\n",
       "      <td>M</td>\n",
       "      <td>6</td>\n",
       "      <td>hernie</td>\n",
       "      <td>Pediatrie</td>\n",
       "      <td>2010-01-02</td>\n",
       "      <td>2010-01-09</td>\n",
       "      <td>7 days</td>\n",
       "      <td>7.0</td>\n",
       "    </tr>\n",
       "    <tr>\n",
       "      <th>3</th>\n",
       "      <td>4</td>\n",
       "      <td>1/2/2010</td>\n",
       "      <td>1/10/2010</td>\n",
       "      <td>M</td>\n",
       "      <td>23</td>\n",
       "      <td>infection et diabete</td>\n",
       "      <td>Hospitalisation</td>\n",
       "      <td>2010-01-02</td>\n",
       "      <td>2010-01-10</td>\n",
       "      <td>8 days</td>\n",
       "      <td>8.0</td>\n",
       "    </tr>\n",
       "    <tr>\n",
       "      <th>4</th>\n",
       "      <td>5</td>\n",
       "      <td>1/2/2010</td>\n",
       "      <td>1/11/2010</td>\n",
       "      <td>M</td>\n",
       "      <td>22</td>\n",
       "      <td>KOD</td>\n",
       "      <td>Gynecologie</td>\n",
       "      <td>2010-01-02</td>\n",
       "      <td>2010-01-11</td>\n",
       "      <td>9 days</td>\n",
       "      <td>9.0</td>\n",
       "    </tr>\n",
       "    <tr>\n",
       "      <th>...</th>\n",
       "      <td>...</td>\n",
       "      <td>...</td>\n",
       "      <td>...</td>\n",
       "      <td>...</td>\n",
       "      <td>...</td>\n",
       "      <td>...</td>\n",
       "      <td>...</td>\n",
       "      <td>...</td>\n",
       "      <td>...</td>\n",
       "      <td>...</td>\n",
       "      <td>...</td>\n",
       "    </tr>\n",
       "    <tr>\n",
       "      <th>833</th>\n",
       "      <td>834</td>\n",
       "      <td>8/21/2021</td>\n",
       "      <td>7/31/2021</td>\n",
       "      <td>M</td>\n",
       "      <td>3 jours</td>\n",
       "      <td>risque infectieux</td>\n",
       "      <td>Neonatologie</td>\n",
       "      <td>2021-08-21</td>\n",
       "      <td>2021-07-31</td>\n",
       "      <td>21 days</td>\n",
       "      <td>21.0</td>\n",
       "    </tr>\n",
       "    <tr>\n",
       "      <th>834</th>\n",
       "      <td>835</td>\n",
       "      <td>8/22/2021</td>\n",
       "      <td>8/1/2021</td>\n",
       "      <td>F</td>\n",
       "      <td>4 jours</td>\n",
       "      <td>bebe macroso</td>\n",
       "      <td>Neonatologie</td>\n",
       "      <td>2021-08-22</td>\n",
       "      <td>2021-08-01</td>\n",
       "      <td>21 days</td>\n",
       "      <td>21.0</td>\n",
       "    </tr>\n",
       "    <tr>\n",
       "      <th>835</th>\n",
       "      <td>836</td>\n",
       "      <td>8/23/2021</td>\n",
       "      <td>8/2/2021</td>\n",
       "      <td>M</td>\n",
       "      <td>5 jours</td>\n",
       "      <td>Faible poids de naissance</td>\n",
       "      <td>Neonatologie</td>\n",
       "      <td>2021-08-23</td>\n",
       "      <td>2021-08-02</td>\n",
       "      <td>21 days</td>\n",
       "      <td>21.0</td>\n",
       "    </tr>\n",
       "    <tr>\n",
       "      <th>836</th>\n",
       "      <td>837</td>\n",
       "      <td>8/24/2021</td>\n",
       "      <td>8/3/2021</td>\n",
       "      <td>M</td>\n",
       "      <td>6 jours</td>\n",
       "      <td>Faible poids de naissance</td>\n",
       "      <td>Neonatologie</td>\n",
       "      <td>2021-08-24</td>\n",
       "      <td>2021-08-03</td>\n",
       "      <td>21 days</td>\n",
       "      <td>21.0</td>\n",
       "    </tr>\n",
       "    <tr>\n",
       "      <th>837</th>\n",
       "      <td>838</td>\n",
       "      <td>8/25/2021</td>\n",
       "      <td>8/4/2021</td>\n",
       "      <td>F</td>\n",
       "      <td>7 jours</td>\n",
       "      <td>macroso</td>\n",
       "      <td>Neonatologie</td>\n",
       "      <td>2021-08-25</td>\n",
       "      <td>2021-08-04</td>\n",
       "      <td>21 days</td>\n",
       "      <td>21.0</td>\n",
       "    </tr>\n",
       "  </tbody>\n",
       "</table>\n",
       "<p>838 rows × 11 columns</p>\n",
       "</div>"
      ],
      "text/plain": [
       "      ID entrance_date discharge_date Gender      Age  \\\n",
       "0      1      1/2/2010       1/7/2010      F       12   \n",
       "1      2      1/2/2010       1/8/2010      F       30   \n",
       "2      3      1/2/2010       1/9/2010      M        6   \n",
       "3      4      1/2/2010      1/10/2010      M       23   \n",
       "4      5      1/2/2010      1/11/2010      M       22   \n",
       "..   ...           ...            ...    ...      ...   \n",
       "833  834     8/21/2021      7/31/2021      M  3 jours   \n",
       "834  835     8/22/2021       8/1/2021      F  4 jours   \n",
       "835  836     8/23/2021       8/2/2021      M  5 jours   \n",
       "836  837     8/24/2021       8/3/2021      M  6 jours   \n",
       "837  838     8/25/2021       8/4/2021      F  7 jours   \n",
       "\n",
       "                       Disease          Service Date_entree Date_sortie  \\\n",
       "0                    palustose        Pediatrie  2010-01-02  2010-01-07   \n",
       "1                      diabete  Hospitalisation  2010-01-02  2010-01-08   \n",
       "2                       hernie        Pediatrie  2010-01-02  2010-01-09   \n",
       "3         infection et diabete  Hospitalisation  2010-01-02  2010-01-10   \n",
       "4                          KOD      Gynecologie  2010-01-02  2010-01-11   \n",
       "..                         ...              ...         ...         ...   \n",
       "833          risque infectieux     Neonatologie  2021-08-21  2021-07-31   \n",
       "834               bebe macroso     Neonatologie  2021-08-22  2021-08-01   \n",
       "835  Faible poids de naissance     Neonatologie  2021-08-23  2021-08-02   \n",
       "836  Faible poids de naissance     Neonatologie  2021-08-24  2021-08-03   \n",
       "837                    macroso     Neonatologie  2021-08-25  2021-08-04   \n",
       "\n",
       "    Nbr_Jours  Periode  \n",
       "0      5 days      5.0  \n",
       "1      6 days      6.0  \n",
       "2      7 days      7.0  \n",
       "3      8 days      8.0  \n",
       "4      9 days      9.0  \n",
       "..        ...      ...  \n",
       "833   21 days     21.0  \n",
       "834   21 days     21.0  \n",
       "835   21 days     21.0  \n",
       "836   21 days     21.0  \n",
       "837   21 days     21.0  \n",
       "\n",
       "[838 rows x 11 columns]"
      ]
     },
     "execution_count": 9,
     "metadata": {},
     "output_type": "execute_result"
    }
   ],
   "source": [
    "data"
   ]
  },
  {
   "cell_type": "code",
   "execution_count": 10,
   "metadata": {},
   "outputs": [],
   "source": [
    "data=data.drop(['ID','entrance_date','discharge_date',\n",
    "               'Date_entree','Date_sortie','Nbr_Jours'],axis=1)"
   ]
  },
  {
   "cell_type": "code",
   "execution_count": 11,
   "metadata": {},
   "outputs": [],
   "source": [
    "data=data.dropna(how='any')"
   ]
  },
  {
   "cell_type": "code",
   "execution_count": 12,
   "metadata": {},
   "outputs": [],
   "source": [
    "data['Periode']=data['Periode'].astype(int)"
   ]
  },
  {
   "cell_type": "code",
   "execution_count": 13,
   "metadata": {},
   "outputs": [
    {
     "name": "stdout",
     "output_type": "stream",
     "text": [
      "<class 'pandas.core.frame.DataFrame'>\n",
      "Int64Index: 835 entries, 0 to 837\n",
      "Data columns (total 5 columns):\n",
      " #   Column   Non-Null Count  Dtype \n",
      "---  ------   --------------  ----- \n",
      " 0   Gender   835 non-null    object\n",
      " 1   Age      835 non-null    object\n",
      " 2   Disease  835 non-null    object\n",
      " 3   Service  835 non-null    object\n",
      " 4   Periode  835 non-null    int32 \n",
      "dtypes: int32(1), object(4)\n",
      "memory usage: 35.9+ KB\n"
     ]
    }
   ],
   "source": [
    "data.info()"
   ]
  },
  {
   "cell_type": "code",
   "execution_count": 14,
   "metadata": {},
   "outputs": [
    {
     "data": {
      "text/plain": [
       "array(['F', 'M'], dtype=object)"
      ]
     },
     "execution_count": 14,
     "metadata": {},
     "output_type": "execute_result"
    }
   ],
   "source": [
    "data.Gender.unique()"
   ]
  },
  {
   "cell_type": "code",
   "execution_count": 15,
   "metadata": {},
   "outputs": [],
   "source": [
    "data['Gender']=data['Gender'].map({'F':0, 'M':1})"
   ]
  },
  {
   "cell_type": "code",
   "execution_count": 16,
   "metadata": {},
   "outputs": [
    {
     "name": "stdout",
     "output_type": "stream",
     "text": [
      "<class 'pandas.core.frame.DataFrame'>\n",
      "Int64Index: 835 entries, 0 to 837\n",
      "Data columns (total 5 columns):\n",
      " #   Column   Non-Null Count  Dtype \n",
      "---  ------   --------------  ----- \n",
      " 0   Gender   835 non-null    int64 \n",
      " 1   Age      835 non-null    object\n",
      " 2   Disease  835 non-null    object\n",
      " 3   Service  835 non-null    object\n",
      " 4   Periode  835 non-null    int32 \n",
      "dtypes: int32(1), int64(1), object(3)\n",
      "memory usage: 35.9+ KB\n"
     ]
    }
   ],
   "source": [
    "data.info()"
   ]
  },
  {
   "cell_type": "code",
   "execution_count": 17,
   "metadata": {},
   "outputs": [
    {
     "data": {
      "text/plain": [
       "array(['Pediatrie', 'Hospitalisation', 'Gynecologie', 'Neonatologie'],\n",
       "      dtype=object)"
      ]
     },
     "execution_count": 17,
     "metadata": {},
     "output_type": "execute_result"
    }
   ],
   "source": [
    "data.Service.unique()"
   ]
  },
  {
   "cell_type": "code",
   "execution_count": 18,
   "metadata": {},
   "outputs": [],
   "source": [
    "data['Service']=data['Service'].map({'Pediatrie':0,'Hospitalisation':1,\n",
    "                                     'Gynecologie':2, 'Neonatologie':3})"
   ]
  },
  {
   "cell_type": "code",
   "execution_count": 19,
   "metadata": {},
   "outputs": [
    {
     "data": {
      "text/html": [
       "<div>\n",
       "<style scoped>\n",
       "    .dataframe tbody tr th:only-of-type {\n",
       "        vertical-align: middle;\n",
       "    }\n",
       "\n",
       "    .dataframe tbody tr th {\n",
       "        vertical-align: top;\n",
       "    }\n",
       "\n",
       "    .dataframe thead th {\n",
       "        text-align: right;\n",
       "    }\n",
       "</style>\n",
       "<table border=\"1\" class=\"dataframe\">\n",
       "  <thead>\n",
       "    <tr style=\"text-align: right;\">\n",
       "      <th></th>\n",
       "      <th>Gender</th>\n",
       "      <th>Age</th>\n",
       "      <th>Disease</th>\n",
       "      <th>Service</th>\n",
       "      <th>Periode</th>\n",
       "    </tr>\n",
       "  </thead>\n",
       "  <tbody>\n",
       "    <tr>\n",
       "      <th>0</th>\n",
       "      <td>0</td>\n",
       "      <td>12</td>\n",
       "      <td>palustose</td>\n",
       "      <td>0</td>\n",
       "      <td>5</td>\n",
       "    </tr>\n",
       "    <tr>\n",
       "      <th>1</th>\n",
       "      <td>0</td>\n",
       "      <td>30</td>\n",
       "      <td>diabete</td>\n",
       "      <td>1</td>\n",
       "      <td>6</td>\n",
       "    </tr>\n",
       "    <tr>\n",
       "      <th>2</th>\n",
       "      <td>1</td>\n",
       "      <td>6</td>\n",
       "      <td>hernie</td>\n",
       "      <td>0</td>\n",
       "      <td>7</td>\n",
       "    </tr>\n",
       "    <tr>\n",
       "      <th>3</th>\n",
       "      <td>1</td>\n",
       "      <td>23</td>\n",
       "      <td>infection et diabete</td>\n",
       "      <td>1</td>\n",
       "      <td>8</td>\n",
       "    </tr>\n",
       "    <tr>\n",
       "      <th>4</th>\n",
       "      <td>1</td>\n",
       "      <td>22</td>\n",
       "      <td>KOD</td>\n",
       "      <td>2</td>\n",
       "      <td>9</td>\n",
       "    </tr>\n",
       "    <tr>\n",
       "      <th>...</th>\n",
       "      <td>...</td>\n",
       "      <td>...</td>\n",
       "      <td>...</td>\n",
       "      <td>...</td>\n",
       "      <td>...</td>\n",
       "    </tr>\n",
       "    <tr>\n",
       "      <th>833</th>\n",
       "      <td>1</td>\n",
       "      <td>3 jours</td>\n",
       "      <td>risque infectieux</td>\n",
       "      <td>3</td>\n",
       "      <td>21</td>\n",
       "    </tr>\n",
       "    <tr>\n",
       "      <th>834</th>\n",
       "      <td>0</td>\n",
       "      <td>4 jours</td>\n",
       "      <td>bebe macroso</td>\n",
       "      <td>3</td>\n",
       "      <td>21</td>\n",
       "    </tr>\n",
       "    <tr>\n",
       "      <th>835</th>\n",
       "      <td>1</td>\n",
       "      <td>5 jours</td>\n",
       "      <td>Faible poids de naissance</td>\n",
       "      <td>3</td>\n",
       "      <td>21</td>\n",
       "    </tr>\n",
       "    <tr>\n",
       "      <th>836</th>\n",
       "      <td>1</td>\n",
       "      <td>6 jours</td>\n",
       "      <td>Faible poids de naissance</td>\n",
       "      <td>3</td>\n",
       "      <td>21</td>\n",
       "    </tr>\n",
       "    <tr>\n",
       "      <th>837</th>\n",
       "      <td>0</td>\n",
       "      <td>7 jours</td>\n",
       "      <td>macroso</td>\n",
       "      <td>3</td>\n",
       "      <td>21</td>\n",
       "    </tr>\n",
       "  </tbody>\n",
       "</table>\n",
       "<p>835 rows × 5 columns</p>\n",
       "</div>"
      ],
      "text/plain": [
       "     Gender      Age                    Disease  Service  Periode\n",
       "0         0       12                  palustose        0        5\n",
       "1         0       30                    diabete        1        6\n",
       "2         1        6                     hernie        0        7\n",
       "3         1       23       infection et diabete        1        8\n",
       "4         1       22                        KOD        2        9\n",
       "..      ...      ...                        ...      ...      ...\n",
       "833       1  3 jours          risque infectieux        3       21\n",
       "834       0  4 jours               bebe macroso        3       21\n",
       "835       1  5 jours  Faible poids de naissance        3       21\n",
       "836       1  6 jours  Faible poids de naissance        3       21\n",
       "837       0  7 jours                    macroso        3       21\n",
       "\n",
       "[835 rows x 5 columns]"
      ]
     },
     "execution_count": 19,
     "metadata": {},
     "output_type": "execute_result"
    }
   ],
   "source": [
    "data"
   ]
  },
  {
   "cell_type": "code",
   "execution_count": 20,
   "metadata": {},
   "outputs": [
    {
     "data": {
      "text/plain": [
       "array(['12', '30', '6', '23', '22', '25', '45', '35', '28', '34', '15',\n",
       "       '20', '56', '19', '18', '17', '78', '69', '40', '21', '8', '79',\n",
       "       '13', '24', '47', '26', '27', '50', '70', '48', '31', '39', '51',\n",
       "       '46', '32', '44', '75', '65', '58', '7', '36', '49', '5', '1', '4',\n",
       "       '1.5', '0.5', '2', '10', '5 Jours', '1 Jour', '14 Jours', '3',\n",
       "       '14', '29', '38', '3 jours', '2 jours', '28 jours', '5 jours',\n",
       "       '6 jours', '7 jours', '8 jours', '9 jours', '10 jours', '11 jours',\n",
       "       '4 jours', '27 jours', '17 jours', '18 jours', '19 jours',\n",
       "       '13 jours', '14 jours', '15 jours', '16 jours', '2 Jour',\n",
       "       '29 jours', '30 jours', '42'], dtype=object)"
      ]
     },
     "execution_count": 20,
     "metadata": {},
     "output_type": "execute_result"
    }
   ],
   "source": [
    "data.Age.unique()"
   ]
  },
  {
   "cell_type": "code",
   "execution_count": 21,
   "metadata": {},
   "outputs": [],
   "source": [
    "data['Age_Patient']=data.Age.str.extract(r'(^\\d+)')"
   ]
  },
  {
   "cell_type": "code",
   "execution_count": 22,
   "metadata": {},
   "outputs": [
    {
     "data": {
      "text/html": [
       "<div>\n",
       "<style scoped>\n",
       "    .dataframe tbody tr th:only-of-type {\n",
       "        vertical-align: middle;\n",
       "    }\n",
       "\n",
       "    .dataframe tbody tr th {\n",
       "        vertical-align: top;\n",
       "    }\n",
       "\n",
       "    .dataframe thead th {\n",
       "        text-align: right;\n",
       "    }\n",
       "</style>\n",
       "<table border=\"1\" class=\"dataframe\">\n",
       "  <thead>\n",
       "    <tr style=\"text-align: right;\">\n",
       "      <th></th>\n",
       "      <th>Gender</th>\n",
       "      <th>Age</th>\n",
       "      <th>Disease</th>\n",
       "      <th>Service</th>\n",
       "      <th>Periode</th>\n",
       "      <th>Age_Patient</th>\n",
       "    </tr>\n",
       "  </thead>\n",
       "  <tbody>\n",
       "    <tr>\n",
       "      <th>0</th>\n",
       "      <td>0</td>\n",
       "      <td>12</td>\n",
       "      <td>palustose</td>\n",
       "      <td>0</td>\n",
       "      <td>5</td>\n",
       "      <td>12</td>\n",
       "    </tr>\n",
       "    <tr>\n",
       "      <th>1</th>\n",
       "      <td>0</td>\n",
       "      <td>30</td>\n",
       "      <td>diabete</td>\n",
       "      <td>1</td>\n",
       "      <td>6</td>\n",
       "      <td>30</td>\n",
       "    </tr>\n",
       "    <tr>\n",
       "      <th>2</th>\n",
       "      <td>1</td>\n",
       "      <td>6</td>\n",
       "      <td>hernie</td>\n",
       "      <td>0</td>\n",
       "      <td>7</td>\n",
       "      <td>6</td>\n",
       "    </tr>\n",
       "    <tr>\n",
       "      <th>3</th>\n",
       "      <td>1</td>\n",
       "      <td>23</td>\n",
       "      <td>infection et diabete</td>\n",
       "      <td>1</td>\n",
       "      <td>8</td>\n",
       "      <td>23</td>\n",
       "    </tr>\n",
       "    <tr>\n",
       "      <th>4</th>\n",
       "      <td>1</td>\n",
       "      <td>22</td>\n",
       "      <td>KOD</td>\n",
       "      <td>2</td>\n",
       "      <td>9</td>\n",
       "      <td>22</td>\n",
       "    </tr>\n",
       "    <tr>\n",
       "      <th>...</th>\n",
       "      <td>...</td>\n",
       "      <td>...</td>\n",
       "      <td>...</td>\n",
       "      <td>...</td>\n",
       "      <td>...</td>\n",
       "      <td>...</td>\n",
       "    </tr>\n",
       "    <tr>\n",
       "      <th>833</th>\n",
       "      <td>1</td>\n",
       "      <td>3 jours</td>\n",
       "      <td>risque infectieux</td>\n",
       "      <td>3</td>\n",
       "      <td>21</td>\n",
       "      <td>3</td>\n",
       "    </tr>\n",
       "    <tr>\n",
       "      <th>834</th>\n",
       "      <td>0</td>\n",
       "      <td>4 jours</td>\n",
       "      <td>bebe macroso</td>\n",
       "      <td>3</td>\n",
       "      <td>21</td>\n",
       "      <td>4</td>\n",
       "    </tr>\n",
       "    <tr>\n",
       "      <th>835</th>\n",
       "      <td>1</td>\n",
       "      <td>5 jours</td>\n",
       "      <td>Faible poids de naissance</td>\n",
       "      <td>3</td>\n",
       "      <td>21</td>\n",
       "      <td>5</td>\n",
       "    </tr>\n",
       "    <tr>\n",
       "      <th>836</th>\n",
       "      <td>1</td>\n",
       "      <td>6 jours</td>\n",
       "      <td>Faible poids de naissance</td>\n",
       "      <td>3</td>\n",
       "      <td>21</td>\n",
       "      <td>6</td>\n",
       "    </tr>\n",
       "    <tr>\n",
       "      <th>837</th>\n",
       "      <td>0</td>\n",
       "      <td>7 jours</td>\n",
       "      <td>macroso</td>\n",
       "      <td>3</td>\n",
       "      <td>21</td>\n",
       "      <td>7</td>\n",
       "    </tr>\n",
       "  </tbody>\n",
       "</table>\n",
       "<p>835 rows × 6 columns</p>\n",
       "</div>"
      ],
      "text/plain": [
       "     Gender      Age                    Disease  Service  Periode Age_Patient\n",
       "0         0       12                  palustose        0        5          12\n",
       "1         0       30                    diabete        1        6          30\n",
       "2         1        6                     hernie        0        7           6\n",
       "3         1       23       infection et diabete        1        8          23\n",
       "4         1       22                        KOD        2        9          22\n",
       "..      ...      ...                        ...      ...      ...         ...\n",
       "833       1  3 jours          risque infectieux        3       21           3\n",
       "834       0  4 jours               bebe macroso        3       21           4\n",
       "835       1  5 jours  Faible poids de naissance        3       21           5\n",
       "836       1  6 jours  Faible poids de naissance        3       21           6\n",
       "837       0  7 jours                    macroso        3       21           7\n",
       "\n",
       "[835 rows x 6 columns]"
      ]
     },
     "execution_count": 22,
     "metadata": {},
     "output_type": "execute_result"
    }
   ],
   "source": [
    "data"
   ]
  },
  {
   "cell_type": "code",
   "execution_count": 23,
   "metadata": {},
   "outputs": [],
   "source": [
    "dataPatientMoinsUnAn=data.loc[data['Age'].str.contains('Jours|Jour',case=False)]"
   ]
  },
  {
   "cell_type": "code",
   "execution_count": 24,
   "metadata": {},
   "outputs": [
    {
     "data": {
      "text/html": [
       "<div>\n",
       "<style scoped>\n",
       "    .dataframe tbody tr th:only-of-type {\n",
       "        vertical-align: middle;\n",
       "    }\n",
       "\n",
       "    .dataframe tbody tr th {\n",
       "        vertical-align: top;\n",
       "    }\n",
       "\n",
       "    .dataframe thead th {\n",
       "        text-align: right;\n",
       "    }\n",
       "</style>\n",
       "<table border=\"1\" class=\"dataframe\">\n",
       "  <thead>\n",
       "    <tr style=\"text-align: right;\">\n",
       "      <th></th>\n",
       "      <th>Gender</th>\n",
       "      <th>Age</th>\n",
       "      <th>Disease</th>\n",
       "      <th>Service</th>\n",
       "      <th>Periode</th>\n",
       "      <th>Age_Patient</th>\n",
       "    </tr>\n",
       "  </thead>\n",
       "  <tbody>\n",
       "    <tr>\n",
       "      <th>177</th>\n",
       "      <td>1</td>\n",
       "      <td>5 Jours</td>\n",
       "      <td>I M M</td>\n",
       "      <td>0</td>\n",
       "      <td>46</td>\n",
       "      <td>5</td>\n",
       "    </tr>\n",
       "    <tr>\n",
       "      <th>178</th>\n",
       "      <td>1</td>\n",
       "      <td>1 Jour</td>\n",
       "      <td>G E febrile</td>\n",
       "      <td>0</td>\n",
       "      <td>36</td>\n",
       "      <td>1</td>\n",
       "    </tr>\n",
       "    <tr>\n",
       "      <th>183</th>\n",
       "      <td>1</td>\n",
       "      <td>1 Jour</td>\n",
       "      <td>I N N</td>\n",
       "      <td>0</td>\n",
       "      <td>45</td>\n",
       "      <td>1</td>\n",
       "    </tr>\n",
       "    <tr>\n",
       "      <th>186</th>\n",
       "      <td>0</td>\n",
       "      <td>14 Jours</td>\n",
       "      <td>Tardive probable</td>\n",
       "      <td>0</td>\n",
       "      <td>55</td>\n",
       "      <td>14</td>\n",
       "    </tr>\n",
       "    <tr>\n",
       "      <th>252</th>\n",
       "      <td>1</td>\n",
       "      <td>3 jours</td>\n",
       "      <td>Faible poids de naissance</td>\n",
       "      <td>3</td>\n",
       "      <td>67</td>\n",
       "      <td>3</td>\n",
       "    </tr>\n",
       "    <tr>\n",
       "      <th>...</th>\n",
       "      <td>...</td>\n",
       "      <td>...</td>\n",
       "      <td>...</td>\n",
       "      <td>...</td>\n",
       "      <td>...</td>\n",
       "      <td>...</td>\n",
       "    </tr>\n",
       "    <tr>\n",
       "      <th>833</th>\n",
       "      <td>1</td>\n",
       "      <td>3 jours</td>\n",
       "      <td>risque infectieux</td>\n",
       "      <td>3</td>\n",
       "      <td>21</td>\n",
       "      <td>3</td>\n",
       "    </tr>\n",
       "    <tr>\n",
       "      <th>834</th>\n",
       "      <td>0</td>\n",
       "      <td>4 jours</td>\n",
       "      <td>bebe macroso</td>\n",
       "      <td>3</td>\n",
       "      <td>21</td>\n",
       "      <td>4</td>\n",
       "    </tr>\n",
       "    <tr>\n",
       "      <th>835</th>\n",
       "      <td>1</td>\n",
       "      <td>5 jours</td>\n",
       "      <td>Faible poids de naissance</td>\n",
       "      <td>3</td>\n",
       "      <td>21</td>\n",
       "      <td>5</td>\n",
       "    </tr>\n",
       "    <tr>\n",
       "      <th>836</th>\n",
       "      <td>1</td>\n",
       "      <td>6 jours</td>\n",
       "      <td>Faible poids de naissance</td>\n",
       "      <td>3</td>\n",
       "      <td>21</td>\n",
       "      <td>6</td>\n",
       "    </tr>\n",
       "    <tr>\n",
       "      <th>837</th>\n",
       "      <td>0</td>\n",
       "      <td>7 jours</td>\n",
       "      <td>macroso</td>\n",
       "      <td>3</td>\n",
       "      <td>21</td>\n",
       "      <td>7</td>\n",
       "    </tr>\n",
       "  </tbody>\n",
       "</table>\n",
       "<p>141 rows × 6 columns</p>\n",
       "</div>"
      ],
      "text/plain": [
       "     Gender       Age                    Disease  Service  Periode Age_Patient\n",
       "177       1   5 Jours                      I M M        0       46           5\n",
       "178       1    1 Jour                G E febrile        0       36           1\n",
       "183       1    1 Jour                      I N N        0       45           1\n",
       "186       0  14 Jours           Tardive probable        0       55          14\n",
       "252       1   3 jours  Faible poids de naissance        3       67           3\n",
       "..      ...       ...                        ...      ...      ...         ...\n",
       "833       1   3 jours          risque infectieux        3       21           3\n",
       "834       0   4 jours               bebe macroso        3       21           4\n",
       "835       1   5 jours  Faible poids de naissance        3       21           5\n",
       "836       1   6 jours  Faible poids de naissance        3       21           6\n",
       "837       0   7 jours                    macroso        3       21           7\n",
       "\n",
       "[141 rows x 6 columns]"
      ]
     },
     "execution_count": 24,
     "metadata": {},
     "output_type": "execute_result"
    }
   ],
   "source": [
    "dataPatientMoinsUnAn"
   ]
  },
  {
   "cell_type": "code",
   "execution_count": 25,
   "metadata": {},
   "outputs": [
    {
     "name": "stdout",
     "output_type": "stream",
     "text": [
      "<class 'pandas.core.frame.DataFrame'>\n",
      "Int64Index: 141 entries, 177 to 837\n",
      "Data columns (total 6 columns):\n",
      " #   Column       Non-Null Count  Dtype \n",
      "---  ------       --------------  ----- \n",
      " 0   Gender       141 non-null    int64 \n",
      " 1   Age          141 non-null    object\n",
      " 2   Disease      141 non-null    object\n",
      " 3   Service      141 non-null    int64 \n",
      " 4   Periode      141 non-null    int32 \n",
      " 5   Age_Patient  141 non-null    object\n",
      "dtypes: int32(1), int64(2), object(3)\n",
      "memory usage: 7.2+ KB\n"
     ]
    }
   ],
   "source": [
    "dataPatientMoinsUnAn.info()"
   ]
  },
  {
   "cell_type": "code",
   "execution_count": 26,
   "metadata": {},
   "outputs": [
    {
     "name": "stderr",
     "output_type": "stream",
     "text": [
      "C:\\Users\\ANGEL\\AppData\\Local\\Temp\\ipykernel_7140\\1833561893.py:1: SettingWithCopyWarning: \n",
      "A value is trying to be set on a copy of a slice from a DataFrame.\n",
      "Try using .loc[row_indexer,col_indexer] = value instead\n",
      "\n",
      "See the caveats in the documentation: https://pandas.pydata.org/pandas-docs/stable/user_guide/indexing.html#returning-a-view-versus-a-copy\n",
      "  dataPatientMoinsUnAn.Age_Patient=dataPatientMoinsUnAn.Age_Patient.astype(int)\n"
     ]
    }
   ],
   "source": [
    "dataPatientMoinsUnAn.Age_Patient=dataPatientMoinsUnAn.Age_Patient.astype(int)"
   ]
  },
  {
   "cell_type": "code",
   "execution_count": 27,
   "metadata": {},
   "outputs": [
    {
     "name": "stdout",
     "output_type": "stream",
     "text": [
      "<class 'pandas.core.frame.DataFrame'>\n",
      "Int64Index: 141 entries, 177 to 837\n",
      "Data columns (total 6 columns):\n",
      " #   Column       Non-Null Count  Dtype \n",
      "---  ------       --------------  ----- \n",
      " 0   Gender       141 non-null    int64 \n",
      " 1   Age          141 non-null    object\n",
      " 2   Disease      141 non-null    object\n",
      " 3   Service      141 non-null    int64 \n",
      " 4   Periode      141 non-null    int32 \n",
      " 5   Age_Patient  141 non-null    int32 \n",
      "dtypes: int32(2), int64(2), object(2)\n",
      "memory usage: 6.6+ KB\n"
     ]
    }
   ],
   "source": [
    "dataPatientMoinsUnAn.info()"
   ]
  },
  {
   "cell_type": "code",
   "execution_count": 28,
   "metadata": {},
   "outputs": [
    {
     "name": "stderr",
     "output_type": "stream",
     "text": [
      "C:\\Users\\ANGEL\\AppData\\Local\\Temp\\ipykernel_7140\\786973047.py:1: SettingWithCopyWarning: \n",
      "A value is trying to be set on a copy of a slice from a DataFrame.\n",
      "Try using .loc[row_indexer,col_indexer] = value instead\n",
      "\n",
      "See the caveats in the documentation: https://pandas.pydata.org/pandas-docs/stable/user_guide/indexing.html#returning-a-view-versus-a-copy\n",
      "  dataPatientMoinsUnAn.Age_Patient=dataPatientMoinsUnAn.Age_Patient.div(365)\n"
     ]
    }
   ],
   "source": [
    "dataPatientMoinsUnAn.Age_Patient=dataPatientMoinsUnAn.Age_Patient.div(365)"
   ]
  },
  {
   "cell_type": "code",
   "execution_count": 29,
   "metadata": {},
   "outputs": [
    {
     "data": {
      "text/html": [
       "<div>\n",
       "<style scoped>\n",
       "    .dataframe tbody tr th:only-of-type {\n",
       "        vertical-align: middle;\n",
       "    }\n",
       "\n",
       "    .dataframe tbody tr th {\n",
       "        vertical-align: top;\n",
       "    }\n",
       "\n",
       "    .dataframe thead th {\n",
       "        text-align: right;\n",
       "    }\n",
       "</style>\n",
       "<table border=\"1\" class=\"dataframe\">\n",
       "  <thead>\n",
       "    <tr style=\"text-align: right;\">\n",
       "      <th></th>\n",
       "      <th>Gender</th>\n",
       "      <th>Age</th>\n",
       "      <th>Disease</th>\n",
       "      <th>Service</th>\n",
       "      <th>Periode</th>\n",
       "      <th>Age_Patient</th>\n",
       "    </tr>\n",
       "  </thead>\n",
       "  <tbody>\n",
       "    <tr>\n",
       "      <th>177</th>\n",
       "      <td>1</td>\n",
       "      <td>5 Jours</td>\n",
       "      <td>I M M</td>\n",
       "      <td>0</td>\n",
       "      <td>46</td>\n",
       "      <td>0.013699</td>\n",
       "    </tr>\n",
       "    <tr>\n",
       "      <th>178</th>\n",
       "      <td>1</td>\n",
       "      <td>1 Jour</td>\n",
       "      <td>G E febrile</td>\n",
       "      <td>0</td>\n",
       "      <td>36</td>\n",
       "      <td>0.002740</td>\n",
       "    </tr>\n",
       "    <tr>\n",
       "      <th>183</th>\n",
       "      <td>1</td>\n",
       "      <td>1 Jour</td>\n",
       "      <td>I N N</td>\n",
       "      <td>0</td>\n",
       "      <td>45</td>\n",
       "      <td>0.002740</td>\n",
       "    </tr>\n",
       "    <tr>\n",
       "      <th>186</th>\n",
       "      <td>0</td>\n",
       "      <td>14 Jours</td>\n",
       "      <td>Tardive probable</td>\n",
       "      <td>0</td>\n",
       "      <td>55</td>\n",
       "      <td>0.038356</td>\n",
       "    </tr>\n",
       "    <tr>\n",
       "      <th>252</th>\n",
       "      <td>1</td>\n",
       "      <td>3 jours</td>\n",
       "      <td>Faible poids de naissance</td>\n",
       "      <td>3</td>\n",
       "      <td>67</td>\n",
       "      <td>0.008219</td>\n",
       "    </tr>\n",
       "    <tr>\n",
       "      <th>...</th>\n",
       "      <td>...</td>\n",
       "      <td>...</td>\n",
       "      <td>...</td>\n",
       "      <td>...</td>\n",
       "      <td>...</td>\n",
       "      <td>...</td>\n",
       "    </tr>\n",
       "    <tr>\n",
       "      <th>833</th>\n",
       "      <td>1</td>\n",
       "      <td>3 jours</td>\n",
       "      <td>risque infectieux</td>\n",
       "      <td>3</td>\n",
       "      <td>21</td>\n",
       "      <td>0.008219</td>\n",
       "    </tr>\n",
       "    <tr>\n",
       "      <th>834</th>\n",
       "      <td>0</td>\n",
       "      <td>4 jours</td>\n",
       "      <td>bebe macroso</td>\n",
       "      <td>3</td>\n",
       "      <td>21</td>\n",
       "      <td>0.010959</td>\n",
       "    </tr>\n",
       "    <tr>\n",
       "      <th>835</th>\n",
       "      <td>1</td>\n",
       "      <td>5 jours</td>\n",
       "      <td>Faible poids de naissance</td>\n",
       "      <td>3</td>\n",
       "      <td>21</td>\n",
       "      <td>0.013699</td>\n",
       "    </tr>\n",
       "    <tr>\n",
       "      <th>836</th>\n",
       "      <td>1</td>\n",
       "      <td>6 jours</td>\n",
       "      <td>Faible poids de naissance</td>\n",
       "      <td>3</td>\n",
       "      <td>21</td>\n",
       "      <td>0.016438</td>\n",
       "    </tr>\n",
       "    <tr>\n",
       "      <th>837</th>\n",
       "      <td>0</td>\n",
       "      <td>7 jours</td>\n",
       "      <td>macroso</td>\n",
       "      <td>3</td>\n",
       "      <td>21</td>\n",
       "      <td>0.019178</td>\n",
       "    </tr>\n",
       "  </tbody>\n",
       "</table>\n",
       "<p>141 rows × 6 columns</p>\n",
       "</div>"
      ],
      "text/plain": [
       "     Gender       Age                    Disease  Service  Periode  \\\n",
       "177       1   5 Jours                      I M M        0       46   \n",
       "178       1    1 Jour                G E febrile        0       36   \n",
       "183       1    1 Jour                      I N N        0       45   \n",
       "186       0  14 Jours           Tardive probable        0       55   \n",
       "252       1   3 jours  Faible poids de naissance        3       67   \n",
       "..      ...       ...                        ...      ...      ...   \n",
       "833       1   3 jours          risque infectieux        3       21   \n",
       "834       0   4 jours               bebe macroso        3       21   \n",
       "835       1   5 jours  Faible poids de naissance        3       21   \n",
       "836       1   6 jours  Faible poids de naissance        3       21   \n",
       "837       0   7 jours                    macroso        3       21   \n",
       "\n",
       "     Age_Patient  \n",
       "177     0.013699  \n",
       "178     0.002740  \n",
       "183     0.002740  \n",
       "186     0.038356  \n",
       "252     0.008219  \n",
       "..           ...  \n",
       "833     0.008219  \n",
       "834     0.010959  \n",
       "835     0.013699  \n",
       "836     0.016438  \n",
       "837     0.019178  \n",
       "\n",
       "[141 rows x 6 columns]"
      ]
     },
     "execution_count": 29,
     "metadata": {},
     "output_type": "execute_result"
    }
   ],
   "source": [
    "dataPatientMoinsUnAn"
   ]
  },
  {
   "cell_type": "code",
   "execution_count": 30,
   "metadata": {},
   "outputs": [],
   "source": [
    "dataPatientPlusUnAn=data.loc[data['Age'].str.contains('Jours|Jour',case=False)==False]"
   ]
  },
  {
   "cell_type": "code",
   "execution_count": 31,
   "metadata": {},
   "outputs": [],
   "source": [
    "dataFinal=[dataPatientPlusUnAn,dataPatientMoinsUnAn]"
   ]
  },
  {
   "cell_type": "code",
   "execution_count": 32,
   "metadata": {},
   "outputs": [],
   "source": [
    "dataFinal=pd.concat(dataFinal)"
   ]
  },
  {
   "cell_type": "code",
   "execution_count": 33,
   "metadata": {},
   "outputs": [
    {
     "data": {
      "text/html": [
       "<div>\n",
       "<style scoped>\n",
       "    .dataframe tbody tr th:only-of-type {\n",
       "        vertical-align: middle;\n",
       "    }\n",
       "\n",
       "    .dataframe tbody tr th {\n",
       "        vertical-align: top;\n",
       "    }\n",
       "\n",
       "    .dataframe thead th {\n",
       "        text-align: right;\n",
       "    }\n",
       "</style>\n",
       "<table border=\"1\" class=\"dataframe\">\n",
       "  <thead>\n",
       "    <tr style=\"text-align: right;\">\n",
       "      <th></th>\n",
       "      <th>Gender</th>\n",
       "      <th>Age</th>\n",
       "      <th>Disease</th>\n",
       "      <th>Service</th>\n",
       "      <th>Periode</th>\n",
       "      <th>Age_Patient</th>\n",
       "    </tr>\n",
       "  </thead>\n",
       "  <tbody>\n",
       "    <tr>\n",
       "      <th>0</th>\n",
       "      <td>0</td>\n",
       "      <td>12</td>\n",
       "      <td>palustose</td>\n",
       "      <td>0</td>\n",
       "      <td>5</td>\n",
       "      <td>12</td>\n",
       "    </tr>\n",
       "    <tr>\n",
       "      <th>1</th>\n",
       "      <td>0</td>\n",
       "      <td>30</td>\n",
       "      <td>diabete</td>\n",
       "      <td>1</td>\n",
       "      <td>6</td>\n",
       "      <td>30</td>\n",
       "    </tr>\n",
       "    <tr>\n",
       "      <th>2</th>\n",
       "      <td>1</td>\n",
       "      <td>6</td>\n",
       "      <td>hernie</td>\n",
       "      <td>0</td>\n",
       "      <td>7</td>\n",
       "      <td>6</td>\n",
       "    </tr>\n",
       "    <tr>\n",
       "      <th>3</th>\n",
       "      <td>1</td>\n",
       "      <td>23</td>\n",
       "      <td>infection et diabete</td>\n",
       "      <td>1</td>\n",
       "      <td>8</td>\n",
       "      <td>23</td>\n",
       "    </tr>\n",
       "    <tr>\n",
       "      <th>4</th>\n",
       "      <td>1</td>\n",
       "      <td>22</td>\n",
       "      <td>KOD</td>\n",
       "      <td>2</td>\n",
       "      <td>9</td>\n",
       "      <td>22</td>\n",
       "    </tr>\n",
       "    <tr>\n",
       "      <th>...</th>\n",
       "      <td>...</td>\n",
       "      <td>...</td>\n",
       "      <td>...</td>\n",
       "      <td>...</td>\n",
       "      <td>...</td>\n",
       "      <td>...</td>\n",
       "    </tr>\n",
       "    <tr>\n",
       "      <th>833</th>\n",
       "      <td>1</td>\n",
       "      <td>3 jours</td>\n",
       "      <td>risque infectieux</td>\n",
       "      <td>3</td>\n",
       "      <td>21</td>\n",
       "      <td>0.008219</td>\n",
       "    </tr>\n",
       "    <tr>\n",
       "      <th>834</th>\n",
       "      <td>0</td>\n",
       "      <td>4 jours</td>\n",
       "      <td>bebe macroso</td>\n",
       "      <td>3</td>\n",
       "      <td>21</td>\n",
       "      <td>0.010959</td>\n",
       "    </tr>\n",
       "    <tr>\n",
       "      <th>835</th>\n",
       "      <td>1</td>\n",
       "      <td>5 jours</td>\n",
       "      <td>Faible poids de naissance</td>\n",
       "      <td>3</td>\n",
       "      <td>21</td>\n",
       "      <td>0.013699</td>\n",
       "    </tr>\n",
       "    <tr>\n",
       "      <th>836</th>\n",
       "      <td>1</td>\n",
       "      <td>6 jours</td>\n",
       "      <td>Faible poids de naissance</td>\n",
       "      <td>3</td>\n",
       "      <td>21</td>\n",
       "      <td>0.016438</td>\n",
       "    </tr>\n",
       "    <tr>\n",
       "      <th>837</th>\n",
       "      <td>0</td>\n",
       "      <td>7 jours</td>\n",
       "      <td>macroso</td>\n",
       "      <td>3</td>\n",
       "      <td>21</td>\n",
       "      <td>0.019178</td>\n",
       "    </tr>\n",
       "  </tbody>\n",
       "</table>\n",
       "<p>835 rows × 6 columns</p>\n",
       "</div>"
      ],
      "text/plain": [
       "     Gender      Age                    Disease  Service  Periode Age_Patient\n",
       "0         0       12                  palustose        0        5          12\n",
       "1         0       30                    diabete        1        6          30\n",
       "2         1        6                     hernie        0        7           6\n",
       "3         1       23       infection et diabete        1        8          23\n",
       "4         1       22                        KOD        2        9          22\n",
       "..      ...      ...                        ...      ...      ...         ...\n",
       "833       1  3 jours          risque infectieux        3       21    0.008219\n",
       "834       0  4 jours               bebe macroso        3       21    0.010959\n",
       "835       1  5 jours  Faible poids de naissance        3       21    0.013699\n",
       "836       1  6 jours  Faible poids de naissance        3       21    0.016438\n",
       "837       0  7 jours                    macroso        3       21    0.019178\n",
       "\n",
       "[835 rows x 6 columns]"
      ]
     },
     "execution_count": 33,
     "metadata": {},
     "output_type": "execute_result"
    }
   ],
   "source": [
    "dataFinal"
   ]
  },
  {
   "cell_type": "code",
   "execution_count": 34,
   "metadata": {},
   "outputs": [],
   "source": [
    "dataFinal.Age=dataFinal.Age_Patient"
   ]
  },
  {
   "cell_type": "code",
   "execution_count": 35,
   "metadata": {},
   "outputs": [
    {
     "data": {
      "text/html": [
       "<div>\n",
       "<style scoped>\n",
       "    .dataframe tbody tr th:only-of-type {\n",
       "        vertical-align: middle;\n",
       "    }\n",
       "\n",
       "    .dataframe tbody tr th {\n",
       "        vertical-align: top;\n",
       "    }\n",
       "\n",
       "    .dataframe thead th {\n",
       "        text-align: right;\n",
       "    }\n",
       "</style>\n",
       "<table border=\"1\" class=\"dataframe\">\n",
       "  <thead>\n",
       "    <tr style=\"text-align: right;\">\n",
       "      <th></th>\n",
       "      <th>Gender</th>\n",
       "      <th>Age</th>\n",
       "      <th>Disease</th>\n",
       "      <th>Service</th>\n",
       "      <th>Periode</th>\n",
       "      <th>Age_Patient</th>\n",
       "    </tr>\n",
       "  </thead>\n",
       "  <tbody>\n",
       "    <tr>\n",
       "      <th>0</th>\n",
       "      <td>0</td>\n",
       "      <td>12</td>\n",
       "      <td>palustose</td>\n",
       "      <td>0</td>\n",
       "      <td>5</td>\n",
       "      <td>12</td>\n",
       "    </tr>\n",
       "    <tr>\n",
       "      <th>1</th>\n",
       "      <td>0</td>\n",
       "      <td>30</td>\n",
       "      <td>diabete</td>\n",
       "      <td>1</td>\n",
       "      <td>6</td>\n",
       "      <td>30</td>\n",
       "    </tr>\n",
       "    <tr>\n",
       "      <th>2</th>\n",
       "      <td>1</td>\n",
       "      <td>6</td>\n",
       "      <td>hernie</td>\n",
       "      <td>0</td>\n",
       "      <td>7</td>\n",
       "      <td>6</td>\n",
       "    </tr>\n",
       "    <tr>\n",
       "      <th>3</th>\n",
       "      <td>1</td>\n",
       "      <td>23</td>\n",
       "      <td>infection et diabete</td>\n",
       "      <td>1</td>\n",
       "      <td>8</td>\n",
       "      <td>23</td>\n",
       "    </tr>\n",
       "    <tr>\n",
       "      <th>4</th>\n",
       "      <td>1</td>\n",
       "      <td>22</td>\n",
       "      <td>KOD</td>\n",
       "      <td>2</td>\n",
       "      <td>9</td>\n",
       "      <td>22</td>\n",
       "    </tr>\n",
       "    <tr>\n",
       "      <th>...</th>\n",
       "      <td>...</td>\n",
       "      <td>...</td>\n",
       "      <td>...</td>\n",
       "      <td>...</td>\n",
       "      <td>...</td>\n",
       "      <td>...</td>\n",
       "    </tr>\n",
       "    <tr>\n",
       "      <th>833</th>\n",
       "      <td>1</td>\n",
       "      <td>0.008219</td>\n",
       "      <td>risque infectieux</td>\n",
       "      <td>3</td>\n",
       "      <td>21</td>\n",
       "      <td>0.008219</td>\n",
       "    </tr>\n",
       "    <tr>\n",
       "      <th>834</th>\n",
       "      <td>0</td>\n",
       "      <td>0.010959</td>\n",
       "      <td>bebe macroso</td>\n",
       "      <td>3</td>\n",
       "      <td>21</td>\n",
       "      <td>0.010959</td>\n",
       "    </tr>\n",
       "    <tr>\n",
       "      <th>835</th>\n",
       "      <td>1</td>\n",
       "      <td>0.013699</td>\n",
       "      <td>Faible poids de naissance</td>\n",
       "      <td>3</td>\n",
       "      <td>21</td>\n",
       "      <td>0.013699</td>\n",
       "    </tr>\n",
       "    <tr>\n",
       "      <th>836</th>\n",
       "      <td>1</td>\n",
       "      <td>0.016438</td>\n",
       "      <td>Faible poids de naissance</td>\n",
       "      <td>3</td>\n",
       "      <td>21</td>\n",
       "      <td>0.016438</td>\n",
       "    </tr>\n",
       "    <tr>\n",
       "      <th>837</th>\n",
       "      <td>0</td>\n",
       "      <td>0.019178</td>\n",
       "      <td>macroso</td>\n",
       "      <td>3</td>\n",
       "      <td>21</td>\n",
       "      <td>0.019178</td>\n",
       "    </tr>\n",
       "  </tbody>\n",
       "</table>\n",
       "<p>835 rows × 6 columns</p>\n",
       "</div>"
      ],
      "text/plain": [
       "     Gender       Age                    Disease  Service  Periode Age_Patient\n",
       "0         0        12                  palustose        0        5          12\n",
       "1         0        30                    diabete        1        6          30\n",
       "2         1         6                     hernie        0        7           6\n",
       "3         1        23       infection et diabete        1        8          23\n",
       "4         1        22                        KOD        2        9          22\n",
       "..      ...       ...                        ...      ...      ...         ...\n",
       "833       1  0.008219          risque infectieux        3       21    0.008219\n",
       "834       0  0.010959               bebe macroso        3       21    0.010959\n",
       "835       1  0.013699  Faible poids de naissance        3       21    0.013699\n",
       "836       1  0.016438  Faible poids de naissance        3       21    0.016438\n",
       "837       0  0.019178                    macroso        3       21    0.019178\n",
       "\n",
       "[835 rows x 6 columns]"
      ]
     },
     "execution_count": 35,
     "metadata": {},
     "output_type": "execute_result"
    }
   ],
   "source": [
    "dataFinal"
   ]
  },
  {
   "cell_type": "code",
   "execution_count": 36,
   "metadata": {},
   "outputs": [],
   "source": [
    "dataFinal=dataFinal.drop(['Age_Patient'],axis=1)"
   ]
  },
  {
   "cell_type": "code",
   "execution_count": 37,
   "metadata": {},
   "outputs": [
    {
     "data": {
      "text/html": [
       "<div>\n",
       "<style scoped>\n",
       "    .dataframe tbody tr th:only-of-type {\n",
       "        vertical-align: middle;\n",
       "    }\n",
       "\n",
       "    .dataframe tbody tr th {\n",
       "        vertical-align: top;\n",
       "    }\n",
       "\n",
       "    .dataframe thead th {\n",
       "        text-align: right;\n",
       "    }\n",
       "</style>\n",
       "<table border=\"1\" class=\"dataframe\">\n",
       "  <thead>\n",
       "    <tr style=\"text-align: right;\">\n",
       "      <th></th>\n",
       "      <th>Gender</th>\n",
       "      <th>Age</th>\n",
       "      <th>Disease</th>\n",
       "      <th>Service</th>\n",
       "      <th>Periode</th>\n",
       "    </tr>\n",
       "  </thead>\n",
       "  <tbody>\n",
       "    <tr>\n",
       "      <th>0</th>\n",
       "      <td>0</td>\n",
       "      <td>12</td>\n",
       "      <td>palustose</td>\n",
       "      <td>0</td>\n",
       "      <td>5</td>\n",
       "    </tr>\n",
       "    <tr>\n",
       "      <th>1</th>\n",
       "      <td>0</td>\n",
       "      <td>30</td>\n",
       "      <td>diabete</td>\n",
       "      <td>1</td>\n",
       "      <td>6</td>\n",
       "    </tr>\n",
       "    <tr>\n",
       "      <th>2</th>\n",
       "      <td>1</td>\n",
       "      <td>6</td>\n",
       "      <td>hernie</td>\n",
       "      <td>0</td>\n",
       "      <td>7</td>\n",
       "    </tr>\n",
       "    <tr>\n",
       "      <th>3</th>\n",
       "      <td>1</td>\n",
       "      <td>23</td>\n",
       "      <td>infection et diabete</td>\n",
       "      <td>1</td>\n",
       "      <td>8</td>\n",
       "    </tr>\n",
       "    <tr>\n",
       "      <th>4</th>\n",
       "      <td>1</td>\n",
       "      <td>22</td>\n",
       "      <td>KOD</td>\n",
       "      <td>2</td>\n",
       "      <td>9</td>\n",
       "    </tr>\n",
       "    <tr>\n",
       "      <th>...</th>\n",
       "      <td>...</td>\n",
       "      <td>...</td>\n",
       "      <td>...</td>\n",
       "      <td>...</td>\n",
       "      <td>...</td>\n",
       "    </tr>\n",
       "    <tr>\n",
       "      <th>833</th>\n",
       "      <td>1</td>\n",
       "      <td>0.008219</td>\n",
       "      <td>risque infectieux</td>\n",
       "      <td>3</td>\n",
       "      <td>21</td>\n",
       "    </tr>\n",
       "    <tr>\n",
       "      <th>834</th>\n",
       "      <td>0</td>\n",
       "      <td>0.010959</td>\n",
       "      <td>bebe macroso</td>\n",
       "      <td>3</td>\n",
       "      <td>21</td>\n",
       "    </tr>\n",
       "    <tr>\n",
       "      <th>835</th>\n",
       "      <td>1</td>\n",
       "      <td>0.013699</td>\n",
       "      <td>Faible poids de naissance</td>\n",
       "      <td>3</td>\n",
       "      <td>21</td>\n",
       "    </tr>\n",
       "    <tr>\n",
       "      <th>836</th>\n",
       "      <td>1</td>\n",
       "      <td>0.016438</td>\n",
       "      <td>Faible poids de naissance</td>\n",
       "      <td>3</td>\n",
       "      <td>21</td>\n",
       "    </tr>\n",
       "    <tr>\n",
       "      <th>837</th>\n",
       "      <td>0</td>\n",
       "      <td>0.019178</td>\n",
       "      <td>macroso</td>\n",
       "      <td>3</td>\n",
       "      <td>21</td>\n",
       "    </tr>\n",
       "  </tbody>\n",
       "</table>\n",
       "<p>835 rows × 5 columns</p>\n",
       "</div>"
      ],
      "text/plain": [
       "     Gender       Age                    Disease  Service  Periode\n",
       "0         0        12                  palustose        0        5\n",
       "1         0        30                    diabete        1        6\n",
       "2         1         6                     hernie        0        7\n",
       "3         1        23       infection et diabete        1        8\n",
       "4         1        22                        KOD        2        9\n",
       "..      ...       ...                        ...      ...      ...\n",
       "833       1  0.008219          risque infectieux        3       21\n",
       "834       0  0.010959               bebe macroso        3       21\n",
       "835       1  0.013699  Faible poids de naissance        3       21\n",
       "836       1  0.016438  Faible poids de naissance        3       21\n",
       "837       0  0.019178                    macroso        3       21\n",
       "\n",
       "[835 rows x 5 columns]"
      ]
     },
     "execution_count": 37,
     "metadata": {},
     "output_type": "execute_result"
    }
   ],
   "source": [
    "dataFinal"
   ]
  },
  {
   "cell_type": "code",
   "execution_count": 38,
   "metadata": {},
   "outputs": [
    {
     "data": {
      "text/plain": [
       "array(['palustose', 'diabete', 'hernie', 'infection et diabete', 'KOD',\n",
       "       'choc emotionnel', 'infection uterine', 'Porte entr?e digestif',\n",
       "       'particolis', 'paludisme', 'palustre', 'Palusisme',\n",
       "       'hernie bilaterale', 'MAP', 'Paludisme', 'fievre',\n",
       "       'infection iterine', 'Hernie', 'myome uterine', 'chute faciale',\n",
       "       'porte entr?e digestif', 'Palustose', 'Palustre et Rhume',\n",
       "       'grippe et palustre', 'infectieux ', 'Apprendiculaire',\n",
       "       'crise hypertension', 'infectieux et diabete', 'Gastrite aigue',\n",
       "       'infectieux grippe', 'infectieux', 'infectieux migneneux',\n",
       "       'effet du losorton', 'affebrile', 'crise de moque', 'alteagique',\n",
       "       'ulcere gasto', 'paludisme grave', 'Rhumatisme',\n",
       "       'encepholite aigue', 'fievre de courte duree', 'obstobeptique',\n",
       "       'GEA', 'Grippe et palustre', 'palmudisme', 'Palustre',\n",
       "       'Detresse respiratoire', 'Fed', 'FCD', 'Bronchite Aigue',\n",
       "       'Enterite febrile ', 'Enterite aigue', 'G E A A ',\n",
       "       'Rhume Bronchute', 'F C D', 'G E A  ', 'afebrile', 'Bronchite ',\n",
       "       'G E A F', 'GEA febrile', 'Grande prematur?', 'Infectieux',\n",
       "       'G E A febrile', 'Hypertetique', 'fiere courte duree', 'sepsis',\n",
       "       'Enterite febaine', 'Palustre grave', 'Bronchite', 'afebrite',\n",
       "       'I N N', 'Rhume ', 'Avortement incomplet', 'avortement ', 'MAV',\n",
       "       'Salmonellose', 'avortement', 'Palusure', 'infection couchaire',\n",
       "       'hygie du trime', 'cyslite aigue probable', 'palut',\n",
       "       'malaise gravidique', 'G', 'Polytraumatique',\n",
       "       'Traumatisme du bassin', 'dyspeptique et choc emotionnel',\n",
       "       'Demence serile', 'Prositose', 'I M M', 'G E febrile',\n",
       "       'Tardive probable', 'Faible poids de naissance', 'macrosonie',\n",
       "       'risque infectieux', 'IN Natale', 'hypotrope', 'bebe macroso',\n",
       "       'macroso', 'petit premature', 'Asphysie reonatale',\n",
       "       'Premature Asphysie'], dtype=object)"
      ]
     },
     "execution_count": 38,
     "metadata": {},
     "output_type": "execute_result"
    }
   ],
   "source": [
    "dataFinal.Disease.unique()"
   ]
  },
  {
   "cell_type": "code",
   "execution_count": 39,
   "metadata": {},
   "outputs": [],
   "source": [
    "dataFinal.Disease=dataFinal.Disease.str.rstrip()"
   ]
  },
  {
   "cell_type": "code",
   "execution_count": 40,
   "metadata": {},
   "outputs": [
    {
     "data": {
      "text/plain": [
       "array(['palustose', 'diabete', 'hernie', 'infection et diabete', 'KOD',\n",
       "       'choc emotionnel', 'infection uterine', 'Porte entr?e digestif',\n",
       "       'particolis', 'paludisme', 'palustre', 'Palusisme',\n",
       "       'hernie bilaterale', 'MAP', 'Paludisme', 'fievre',\n",
       "       'infection iterine', 'Hernie', 'myome uterine', 'chute faciale',\n",
       "       'porte entr?e digestif', 'Palustose', 'Palustre et Rhume',\n",
       "       'grippe et palustre', 'infectieux', 'Apprendiculaire',\n",
       "       'crise hypertension', 'infectieux et diabete', 'Gastrite aigue',\n",
       "       'infectieux grippe', 'infectieux migneneux', 'effet du losorton',\n",
       "       'affebrile', 'crise de moque', 'alteagique', 'ulcere gasto',\n",
       "       'paludisme grave', 'Rhumatisme', 'encepholite aigue',\n",
       "       'fievre de courte duree', 'obstobeptique', 'GEA',\n",
       "       'Grippe et palustre', 'palmudisme', 'Palustre',\n",
       "       'Detresse respiratoire', 'Fed', 'FCD', 'Bronchite Aigue',\n",
       "       'Enterite febrile', 'Enterite aigue', 'G E A A', 'Rhume Bronchute',\n",
       "       'F C D', 'G E A', 'afebrile', 'Bronchite', 'G E A F',\n",
       "       'GEA febrile', 'Grande prematur?', 'Infectieux', 'G E A febrile',\n",
       "       'Hypertetique', 'fiere courte duree', 'sepsis', 'Enterite febaine',\n",
       "       'Palustre grave', 'afebrite', 'I N N', 'Rhume',\n",
       "       'Avortement incomplet', 'avortement', 'MAV', 'Salmonellose',\n",
       "       'Palusure', 'infection couchaire', 'hygie du trime',\n",
       "       'cyslite aigue probable', 'palut', 'malaise gravidique', 'G',\n",
       "       'Polytraumatique', 'Traumatisme du bassin',\n",
       "       'dyspeptique et choc emotionnel', 'Demence serile', 'Prositose',\n",
       "       'I M M', 'G E febrile', 'Tardive probable',\n",
       "       'Faible poids de naissance', 'macrosonie', 'risque infectieux',\n",
       "       'IN Natale', 'hypotrope', 'bebe macroso', 'macroso',\n",
       "       'petit premature', 'Asphysie reonatale', 'Premature Asphysie'],\n",
       "      dtype=object)"
      ]
     },
     "execution_count": 40,
     "metadata": {},
     "output_type": "execute_result"
    }
   ],
   "source": [
    "dataFinal.Disease.unique()"
   ]
  },
  {
   "cell_type": "code",
   "execution_count": 41,
   "metadata": {},
   "outputs": [],
   "source": [
    "REPLACE_LIST={\n",
    "    \"palustose\":\"Malaria\", \n",
    "    \"diabete\":\"Diabetes\", \n",
    "    \"hernie\":\"Hernia\", \n",
    "    \"infection et diabete\":\"Infection and Diabetes\", \n",
    "    \"KOD\":\"Right Ovarian Cyst\",\n",
    "    \"choc emotionnel\":\"Emotional trauma\", \n",
    "    \"infection uterine\":\"Uterine infection\", \n",
    "    \"Porte entr?e digestif\":\"Digestive tract\",\n",
    "    \"paludisme\":\"Malaria\", \n",
    "    \"palustre\":\"Malaria\", \n",
    "    \"Palusisme\":\"Malaria\", \n",
    "    \"hernie bilaterale\":\"Bilateral hernia\", \n",
    "    \"MAP\":\"Threat of preterm birth\",\n",
    "    \"Paludisme\":\"Malaria\", \n",
    "    \"fievre\":\"Fever\",  \n",
    "    \"infection iterine\":\"Uterine infection\", \n",
    "    \"Hernie\":\"Hernia\",\n",
    "    \"myome uterine\":\"Uterine myoma\", \n",
    "    \"chute faciale\":\"Facial fall\", \n",
    "    \"porte entr?e digestif\":\"Digestive tract\",\n",
    "    \"Palustose\":\"Malaria\", \n",
    "    \"Palustre et Rhume\":\"Flu and malaria\", \n",
    "    \"grippe et palustre\":\"Flu and malaria\",\n",
    "    \"infectieux\":\"Infection\", \n",
    "    \"Apprendiculaire\":\"Appendicular\", \n",
    "    \"crise hypertension\":\"Hypertension crisis\",\n",
    "    \"infectieux et diabete\":\"Infection and Diabetes\",\n",
    "    \"Gastrite aigue\":\"Acute Gastritis\", \n",
    "    \"infectieux grippe\":\"Influenza\",\n",
    "    \"infectieux migneneux\":\"Infectious Mononucleosis\", \n",
    "    \"effet du losorton\":\"Losartan effect\", \n",
    "    \"affebrile\":\"Afebrile\",\n",
    "    \"crise de moque\":\"Mocking seizure\", \n",
    "    \"alteagique\":\"Allergy\", \n",
    "    \"ulcere gasto\":\"Peptic ulcer\", \n",
    "    \"paludisme grave\":\"Severe malaria\",\n",
    "    \"Rhumatisme\":\"Rheumatism\", \n",
    "    \"encepholite aigue\":\"Acute encephalitis\", \n",
    "    \"fievre de courte duree\":\"Short-term fever\",\n",
    "    \"obstobeptique\":\"Obstetrical pathology\", \n",
    "    \"particolis\":\"Chronic valvular disease\", \n",
    "    \"GEA\":\"Acute gastroenteritis\", \n",
    "    \"Grippe et palustre\":\"Flu and malaria\",\n",
    "    \"palmudisme\":\"Malaria\", \n",
    "    \"Palustre\":\"Malaria\", \n",
    "    \"Detresse respiratoire\":\"Respiratory distress\", \n",
    "    \"Fed\":\"Focal Cortical Dysplasia\", \n",
    "    \"FCD\":\"Focal Cortical Dysplasia\",\n",
    "    \"Bronchite Aigue\":\"Acute bronchitis\", \n",
    "    \"Enterite febrile\":\"Febrile enteritis\", \n",
    "    \"Enterite aigue\":\"Acute enteritis\", \n",
    "    \"G E A A\":\"Acute gastroenteritis\",\n",
    "    \"Rhume Bronchute\":\"Cold and bronchitis\", \n",
    "    \"F C D\":\"Focal Cortical Dysplasia\", \n",
    "    \"G E A\":\"Acute gastroenteritis\", \n",
    "    \"afebrile\":\"Afebrile\", \n",
    "    \"Bronchite\":\"Bronchitis\",\n",
    "    \"G E A F\":\"Acute febrile gastroenteritis\", \n",
    "    \"GEA febrile\":\"Acute febrile gastroenteritis\", \n",
    "    \"Grande prematur?\":\"Extreme prematurity\", \n",
    "    \"Infectieux\":\"Infection\",\n",
    "    \"G E A febrile\":\"Acute febrile gastroenteritis\", \n",
    "    \"Hypertetique\":\"Hypothermia\", \n",
    "    \"fiere courte duree\":\"Short-term fever\", \n",
    "    \"sepsis\":\"Sepsis\",\n",
    "    \"Enterite febaine\":\"Febrile enteritis\", \n",
    "    \"Palustre grave\":\"Severe malaria\", \n",
    "    \"afebrite\":\"Afebrile\", \n",
    "    \"I N N\":\"Neonatal infection\", \n",
    "    \"Rhume\":\"Flu\",\n",
    "    \"Avortement incomplet\":\"Incomplete abortion\", \n",
    "    \"avortement\":\"Abortion\", \n",
    "    \"MAV\":\"Arteriovenous malformation\", \n",
    "    \"Salmonellose\":\"Salmonellosis\",\n",
    "    \"Palusure\":\"Malaria\", \n",
    "    \"infection couchaire\":\"Post-partum infection\", \n",
    "    \"hygie du trime\":\"Vaginal mycoses\",\n",
    "    \"cyslite aigue probable\":\"Probable acute cystitis\", \n",
    "    \"palut\":\"Malaria\", \n",
    "    \"malaise gravidique\":\"Pregnancy discomfort\", \n",
    "    \"G\":\"Gastritis\",\n",
    "    \"Polytraumatique\":\"Polytrauma\", \n",
    "    \"Traumatisme du bassin\":\"Pelvic trauma\",\n",
    "    \"dyspeptique et choc emotionnel\":\"Dyspeptic and emotional shock\", \n",
    "    \"Demence serile\":\"Senile Dementia\", \n",
    "    \"Prositose\":\"Agnosia\",\n",
    "    \"I M M\":\"Neonatal infection\", \n",
    "    \"G E febrile\":\"Febrile gastroenteritis\", \n",
    "    \"Tardive probable\":\"Probable late vision\",\n",
    "    \"Faible poids de naissance\":\"Low birth weight\", \n",
    "    \"macrosonie\":\"Macrosomia\", \n",
    "    \"risque infectieux\":\"Infectious risk\",\n",
    "    \"IN Natale\":\"Neonatal infection\", \n",
    "    \"hypotrope\":\"Hypotrophy\", \n",
    "    \"bebe macroso\":\"Macrosomia\", \n",
    "    \"macroso\":\"Macrosomia\",\n",
    "    \"petit premature\":\"Medium prematurity\", \n",
    "    \"Asphysie reonatale\":\"Neonatal asphyxia\", \n",
    "    \"Premature Asphysie\":\"Asphyxiated preemie\"    \n",
    "}\n"
   ]
  },
  {
   "cell_type": "code",
   "execution_count": 42,
   "metadata": {},
   "outputs": [],
   "source": [
    "dataFinal.Disease=dataFinal.Disease.replace(REPLACE_LIST)"
   ]
  },
  {
   "cell_type": "code",
   "execution_count": 43,
   "metadata": {},
   "outputs": [
    {
     "data": {
      "text/html": [
       "<div>\n",
       "<style scoped>\n",
       "    .dataframe tbody tr th:only-of-type {\n",
       "        vertical-align: middle;\n",
       "    }\n",
       "\n",
       "    .dataframe tbody tr th {\n",
       "        vertical-align: top;\n",
       "    }\n",
       "\n",
       "    .dataframe thead th {\n",
       "        text-align: right;\n",
       "    }\n",
       "</style>\n",
       "<table border=\"1\" class=\"dataframe\">\n",
       "  <thead>\n",
       "    <tr style=\"text-align: right;\">\n",
       "      <th></th>\n",
       "      <th>Gender</th>\n",
       "      <th>Age</th>\n",
       "      <th>Disease</th>\n",
       "      <th>Service</th>\n",
       "      <th>Periode</th>\n",
       "    </tr>\n",
       "  </thead>\n",
       "  <tbody>\n",
       "    <tr>\n",
       "      <th>0</th>\n",
       "      <td>0</td>\n",
       "      <td>12</td>\n",
       "      <td>Malaria</td>\n",
       "      <td>0</td>\n",
       "      <td>5</td>\n",
       "    </tr>\n",
       "    <tr>\n",
       "      <th>1</th>\n",
       "      <td>0</td>\n",
       "      <td>30</td>\n",
       "      <td>Diabetes</td>\n",
       "      <td>1</td>\n",
       "      <td>6</td>\n",
       "    </tr>\n",
       "    <tr>\n",
       "      <th>2</th>\n",
       "      <td>1</td>\n",
       "      <td>6</td>\n",
       "      <td>Hernia</td>\n",
       "      <td>0</td>\n",
       "      <td>7</td>\n",
       "    </tr>\n",
       "    <tr>\n",
       "      <th>3</th>\n",
       "      <td>1</td>\n",
       "      <td>23</td>\n",
       "      <td>Infection and Diabetes</td>\n",
       "      <td>1</td>\n",
       "      <td>8</td>\n",
       "    </tr>\n",
       "    <tr>\n",
       "      <th>4</th>\n",
       "      <td>1</td>\n",
       "      <td>22</td>\n",
       "      <td>Right Ovarian Cyst</td>\n",
       "      <td>2</td>\n",
       "      <td>9</td>\n",
       "    </tr>\n",
       "    <tr>\n",
       "      <th>...</th>\n",
       "      <td>...</td>\n",
       "      <td>...</td>\n",
       "      <td>...</td>\n",
       "      <td>...</td>\n",
       "      <td>...</td>\n",
       "    </tr>\n",
       "    <tr>\n",
       "      <th>833</th>\n",
       "      <td>1</td>\n",
       "      <td>0.008219</td>\n",
       "      <td>Infectious risk</td>\n",
       "      <td>3</td>\n",
       "      <td>21</td>\n",
       "    </tr>\n",
       "    <tr>\n",
       "      <th>834</th>\n",
       "      <td>0</td>\n",
       "      <td>0.010959</td>\n",
       "      <td>Macrosomia</td>\n",
       "      <td>3</td>\n",
       "      <td>21</td>\n",
       "    </tr>\n",
       "    <tr>\n",
       "      <th>835</th>\n",
       "      <td>1</td>\n",
       "      <td>0.013699</td>\n",
       "      <td>Low birth weight</td>\n",
       "      <td>3</td>\n",
       "      <td>21</td>\n",
       "    </tr>\n",
       "    <tr>\n",
       "      <th>836</th>\n",
       "      <td>1</td>\n",
       "      <td>0.016438</td>\n",
       "      <td>Low birth weight</td>\n",
       "      <td>3</td>\n",
       "      <td>21</td>\n",
       "    </tr>\n",
       "    <tr>\n",
       "      <th>837</th>\n",
       "      <td>0</td>\n",
       "      <td>0.019178</td>\n",
       "      <td>Macrosomia</td>\n",
       "      <td>3</td>\n",
       "      <td>21</td>\n",
       "    </tr>\n",
       "  </tbody>\n",
       "</table>\n",
       "<p>835 rows × 5 columns</p>\n",
       "</div>"
      ],
      "text/plain": [
       "     Gender       Age                 Disease  Service  Periode\n",
       "0         0        12                 Malaria        0        5\n",
       "1         0        30                Diabetes        1        6\n",
       "2         1         6                  Hernia        0        7\n",
       "3         1        23  Infection and Diabetes        1        8\n",
       "4         1        22      Right Ovarian Cyst        2        9\n",
       "..      ...       ...                     ...      ...      ...\n",
       "833       1  0.008219         Infectious risk        3       21\n",
       "834       0  0.010959              Macrosomia        3       21\n",
       "835       1  0.013699        Low birth weight        3       21\n",
       "836       1  0.016438        Low birth weight        3       21\n",
       "837       0  0.019178              Macrosomia        3       21\n",
       "\n",
       "[835 rows x 5 columns]"
      ]
     },
     "execution_count": 43,
     "metadata": {},
     "output_type": "execute_result"
    }
   ],
   "source": [
    "dataFinal"
   ]
  },
  {
   "cell_type": "code",
   "execution_count": 44,
   "metadata": {},
   "outputs": [],
   "source": [
    "dataFinal['DiseaseBackup']=dataFinal.Disease"
   ]
  },
  {
   "cell_type": "code",
   "execution_count": 45,
   "metadata": {},
   "outputs": [
    {
     "data": {
      "text/html": [
       "<div>\n",
       "<style scoped>\n",
       "    .dataframe tbody tr th:only-of-type {\n",
       "        vertical-align: middle;\n",
       "    }\n",
       "\n",
       "    .dataframe tbody tr th {\n",
       "        vertical-align: top;\n",
       "    }\n",
       "\n",
       "    .dataframe thead th {\n",
       "        text-align: right;\n",
       "    }\n",
       "</style>\n",
       "<table border=\"1\" class=\"dataframe\">\n",
       "  <thead>\n",
       "    <tr style=\"text-align: right;\">\n",
       "      <th></th>\n",
       "      <th>Gender</th>\n",
       "      <th>Age</th>\n",
       "      <th>Disease</th>\n",
       "      <th>Service</th>\n",
       "      <th>Periode</th>\n",
       "      <th>DiseaseBackup</th>\n",
       "    </tr>\n",
       "  </thead>\n",
       "  <tbody>\n",
       "    <tr>\n",
       "      <th>0</th>\n",
       "      <td>0</td>\n",
       "      <td>12</td>\n",
       "      <td>Malaria</td>\n",
       "      <td>0</td>\n",
       "      <td>5</td>\n",
       "      <td>Malaria</td>\n",
       "    </tr>\n",
       "    <tr>\n",
       "      <th>1</th>\n",
       "      <td>0</td>\n",
       "      <td>30</td>\n",
       "      <td>Diabetes</td>\n",
       "      <td>1</td>\n",
       "      <td>6</td>\n",
       "      <td>Diabetes</td>\n",
       "    </tr>\n",
       "    <tr>\n",
       "      <th>2</th>\n",
       "      <td>1</td>\n",
       "      <td>6</td>\n",
       "      <td>Hernia</td>\n",
       "      <td>0</td>\n",
       "      <td>7</td>\n",
       "      <td>Hernia</td>\n",
       "    </tr>\n",
       "    <tr>\n",
       "      <th>3</th>\n",
       "      <td>1</td>\n",
       "      <td>23</td>\n",
       "      <td>Infection and Diabetes</td>\n",
       "      <td>1</td>\n",
       "      <td>8</td>\n",
       "      <td>Infection and Diabetes</td>\n",
       "    </tr>\n",
       "    <tr>\n",
       "      <th>4</th>\n",
       "      <td>1</td>\n",
       "      <td>22</td>\n",
       "      <td>Right Ovarian Cyst</td>\n",
       "      <td>2</td>\n",
       "      <td>9</td>\n",
       "      <td>Right Ovarian Cyst</td>\n",
       "    </tr>\n",
       "    <tr>\n",
       "      <th>...</th>\n",
       "      <td>...</td>\n",
       "      <td>...</td>\n",
       "      <td>...</td>\n",
       "      <td>...</td>\n",
       "      <td>...</td>\n",
       "      <td>...</td>\n",
       "    </tr>\n",
       "    <tr>\n",
       "      <th>833</th>\n",
       "      <td>1</td>\n",
       "      <td>0.008219</td>\n",
       "      <td>Infectious risk</td>\n",
       "      <td>3</td>\n",
       "      <td>21</td>\n",
       "      <td>Infectious risk</td>\n",
       "    </tr>\n",
       "    <tr>\n",
       "      <th>834</th>\n",
       "      <td>0</td>\n",
       "      <td>0.010959</td>\n",
       "      <td>Macrosomia</td>\n",
       "      <td>3</td>\n",
       "      <td>21</td>\n",
       "      <td>Macrosomia</td>\n",
       "    </tr>\n",
       "    <tr>\n",
       "      <th>835</th>\n",
       "      <td>1</td>\n",
       "      <td>0.013699</td>\n",
       "      <td>Low birth weight</td>\n",
       "      <td>3</td>\n",
       "      <td>21</td>\n",
       "      <td>Low birth weight</td>\n",
       "    </tr>\n",
       "    <tr>\n",
       "      <th>836</th>\n",
       "      <td>1</td>\n",
       "      <td>0.016438</td>\n",
       "      <td>Low birth weight</td>\n",
       "      <td>3</td>\n",
       "      <td>21</td>\n",
       "      <td>Low birth weight</td>\n",
       "    </tr>\n",
       "    <tr>\n",
       "      <th>837</th>\n",
       "      <td>0</td>\n",
       "      <td>0.019178</td>\n",
       "      <td>Macrosomia</td>\n",
       "      <td>3</td>\n",
       "      <td>21</td>\n",
       "      <td>Macrosomia</td>\n",
       "    </tr>\n",
       "  </tbody>\n",
       "</table>\n",
       "<p>835 rows × 6 columns</p>\n",
       "</div>"
      ],
      "text/plain": [
       "     Gender       Age                 Disease  Service  Periode  \\\n",
       "0         0        12                 Malaria        0        5   \n",
       "1         0        30                Diabetes        1        6   \n",
       "2         1         6                  Hernia        0        7   \n",
       "3         1        23  Infection and Diabetes        1        8   \n",
       "4         1        22      Right Ovarian Cyst        2        9   \n",
       "..      ...       ...                     ...      ...      ...   \n",
       "833       1  0.008219         Infectious risk        3       21   \n",
       "834       0  0.010959              Macrosomia        3       21   \n",
       "835       1  0.013699        Low birth weight        3       21   \n",
       "836       1  0.016438        Low birth weight        3       21   \n",
       "837       0  0.019178              Macrosomia        3       21   \n",
       "\n",
       "              DiseaseBackup  \n",
       "0                   Malaria  \n",
       "1                  Diabetes  \n",
       "2                    Hernia  \n",
       "3    Infection and Diabetes  \n",
       "4        Right Ovarian Cyst  \n",
       "..                      ...  \n",
       "833         Infectious risk  \n",
       "834              Macrosomia  \n",
       "835        Low birth weight  \n",
       "836        Low birth weight  \n",
       "837              Macrosomia  \n",
       "\n",
       "[835 rows x 6 columns]"
      ]
     },
     "execution_count": 45,
     "metadata": {},
     "output_type": "execute_result"
    }
   ],
   "source": [
    "dataFinal"
   ]
  },
  {
   "cell_type": "code",
   "execution_count": 46,
   "metadata": {},
   "outputs": [],
   "source": [
    "from sklearn.preprocessing import LabelEncoder\n",
    "enc=LabelEncoder()"
   ]
  },
  {
   "cell_type": "code",
   "execution_count": 47,
   "metadata": {},
   "outputs": [],
   "source": [
    "dataFinal.Disease=dataFinal.loc[:,['Disease']].apply(enc.fit_transform)"
   ]
  },
  {
   "cell_type": "code",
   "execution_count": 48,
   "metadata": {},
   "outputs": [],
   "source": [
    "dataFinal['DC']=dataFinal.Disease.astype(str)"
   ]
  },
  {
   "cell_type": "code",
   "execution_count": 49,
   "metadata": {},
   "outputs": [
    {
     "data": {
      "text/html": [
       "<div>\n",
       "<style scoped>\n",
       "    .dataframe tbody tr th:only-of-type {\n",
       "        vertical-align: middle;\n",
       "    }\n",
       "\n",
       "    .dataframe tbody tr th {\n",
       "        vertical-align: top;\n",
       "    }\n",
       "\n",
       "    .dataframe thead th {\n",
       "        text-align: right;\n",
       "    }\n",
       "</style>\n",
       "<table border=\"1\" class=\"dataframe\">\n",
       "  <thead>\n",
       "    <tr style=\"text-align: right;\">\n",
       "      <th></th>\n",
       "      <th>Gender</th>\n",
       "      <th>Age</th>\n",
       "      <th>Disease</th>\n",
       "      <th>Service</th>\n",
       "      <th>Periode</th>\n",
       "      <th>DiseaseBackup</th>\n",
       "      <th>DC</th>\n",
       "    </tr>\n",
       "  </thead>\n",
       "  <tbody>\n",
       "    <tr>\n",
       "      <th>0</th>\n",
       "      <td>0</td>\n",
       "      <td>12</td>\n",
       "      <td>43</td>\n",
       "      <td>0</td>\n",
       "      <td>5</td>\n",
       "      <td>Malaria</td>\n",
       "      <td>43</td>\n",
       "    </tr>\n",
       "    <tr>\n",
       "      <th>1</th>\n",
       "      <td>0</td>\n",
       "      <td>30</td>\n",
       "      <td>17</td>\n",
       "      <td>1</td>\n",
       "      <td>6</td>\n",
       "      <td>Diabetes</td>\n",
       "      <td>17</td>\n",
       "    </tr>\n",
       "    <tr>\n",
       "      <th>2</th>\n",
       "      <td>1</td>\n",
       "      <td>6</td>\n",
       "      <td>30</td>\n",
       "      <td>0</td>\n",
       "      <td>7</td>\n",
       "      <td>Hernia</td>\n",
       "      <td>30</td>\n",
       "    </tr>\n",
       "    <tr>\n",
       "      <th>3</th>\n",
       "      <td>1</td>\n",
       "      <td>23</td>\n",
       "      <td>36</td>\n",
       "      <td>1</td>\n",
       "      <td>8</td>\n",
       "      <td>Infection and Diabetes</td>\n",
       "      <td>36</td>\n",
       "    </tr>\n",
       "    <tr>\n",
       "      <th>4</th>\n",
       "      <td>1</td>\n",
       "      <td>22</td>\n",
       "      <td>58</td>\n",
       "      <td>2</td>\n",
       "      <td>9</td>\n",
       "      <td>Right Ovarian Cyst</td>\n",
       "      <td>58</td>\n",
       "    </tr>\n",
       "    <tr>\n",
       "      <th>...</th>\n",
       "      <td>...</td>\n",
       "      <td>...</td>\n",
       "      <td>...</td>\n",
       "      <td>...</td>\n",
       "      <td>...</td>\n",
       "      <td>...</td>\n",
       "      <td>...</td>\n",
       "    </tr>\n",
       "    <tr>\n",
       "      <th>833</th>\n",
       "      <td>1</td>\n",
       "      <td>0.008219</td>\n",
       "      <td>38</td>\n",
       "      <td>3</td>\n",
       "      <td>21</td>\n",
       "      <td>Infectious risk</td>\n",
       "      <td>38</td>\n",
       "    </tr>\n",
       "    <tr>\n",
       "      <th>834</th>\n",
       "      <td>0</td>\n",
       "      <td>0.010959</td>\n",
       "      <td>42</td>\n",
       "      <td>3</td>\n",
       "      <td>21</td>\n",
       "      <td>Macrosomia</td>\n",
       "      <td>42</td>\n",
       "    </tr>\n",
       "    <tr>\n",
       "      <th>835</th>\n",
       "      <td>1</td>\n",
       "      <td>0.013699</td>\n",
       "      <td>41</td>\n",
       "      <td>3</td>\n",
       "      <td>21</td>\n",
       "      <td>Low birth weight</td>\n",
       "      <td>41</td>\n",
       "    </tr>\n",
       "    <tr>\n",
       "      <th>836</th>\n",
       "      <td>1</td>\n",
       "      <td>0.016438</td>\n",
       "      <td>41</td>\n",
       "      <td>3</td>\n",
       "      <td>21</td>\n",
       "      <td>Low birth weight</td>\n",
       "      <td>41</td>\n",
       "    </tr>\n",
       "    <tr>\n",
       "      <th>837</th>\n",
       "      <td>0</td>\n",
       "      <td>0.019178</td>\n",
       "      <td>42</td>\n",
       "      <td>3</td>\n",
       "      <td>21</td>\n",
       "      <td>Macrosomia</td>\n",
       "      <td>42</td>\n",
       "    </tr>\n",
       "  </tbody>\n",
       "</table>\n",
       "<p>835 rows × 7 columns</p>\n",
       "</div>"
      ],
      "text/plain": [
       "     Gender       Age  Disease  Service  Periode           DiseaseBackup  DC\n",
       "0         0        12       43        0        5                 Malaria  43\n",
       "1         0        30       17        1        6                Diabetes  17\n",
       "2         1         6       30        0        7                  Hernia  30\n",
       "3         1        23       36        1        8  Infection and Diabetes  36\n",
       "4         1        22       58        2        9      Right Ovarian Cyst  58\n",
       "..      ...       ...      ...      ...      ...                     ...  ..\n",
       "833       1  0.008219       38        3       21         Infectious risk  38\n",
       "834       0  0.010959       42        3       21              Macrosomia  42\n",
       "835       1  0.013699       41        3       21        Low birth weight  41\n",
       "836       1  0.016438       41        3       21        Low birth weight  41\n",
       "837       0  0.019178       42        3       21              Macrosomia  42\n",
       "\n",
       "[835 rows x 7 columns]"
      ]
     },
     "execution_count": 49,
     "metadata": {},
     "output_type": "execute_result"
    }
   ],
   "source": [
    "dataFinal"
   ]
  },
  {
   "cell_type": "code",
   "execution_count": 50,
   "metadata": {},
   "outputs": [],
   "source": [
    "dataFinal.DiseaseBackup=dataFinal.DiseaseBackup + \":\" "
   ]
  },
  {
   "cell_type": "code",
   "execution_count": null,
   "metadata": {},
   "outputs": [],
   "source": []
  },
  {
   "cell_type": "code",
   "execution_count": 51,
   "metadata": {},
   "outputs": [],
   "source": [
    "dataFinal.DiseaseBackup=dataFinal.DiseaseBackup + dataFinal.DC"
   ]
  },
  {
   "cell_type": "code",
   "execution_count": 52,
   "metadata": {},
   "outputs": [
    {
     "data": {
      "text/html": [
       "<div>\n",
       "<style scoped>\n",
       "    .dataframe tbody tr th:only-of-type {\n",
       "        vertical-align: middle;\n",
       "    }\n",
       "\n",
       "    .dataframe tbody tr th {\n",
       "        vertical-align: top;\n",
       "    }\n",
       "\n",
       "    .dataframe thead th {\n",
       "        text-align: right;\n",
       "    }\n",
       "</style>\n",
       "<table border=\"1\" class=\"dataframe\">\n",
       "  <thead>\n",
       "    <tr style=\"text-align: right;\">\n",
       "      <th></th>\n",
       "      <th>Gender</th>\n",
       "      <th>Age</th>\n",
       "      <th>Disease</th>\n",
       "      <th>Service</th>\n",
       "      <th>Periode</th>\n",
       "      <th>DiseaseBackup</th>\n",
       "      <th>DC</th>\n",
       "    </tr>\n",
       "  </thead>\n",
       "  <tbody>\n",
       "    <tr>\n",
       "      <th>0</th>\n",
       "      <td>0</td>\n",
       "      <td>12</td>\n",
       "      <td>43</td>\n",
       "      <td>0</td>\n",
       "      <td>5</td>\n",
       "      <td>Malaria:43</td>\n",
       "      <td>43</td>\n",
       "    </tr>\n",
       "    <tr>\n",
       "      <th>1</th>\n",
       "      <td>0</td>\n",
       "      <td>30</td>\n",
       "      <td>17</td>\n",
       "      <td>1</td>\n",
       "      <td>6</td>\n",
       "      <td>Diabetes:17</td>\n",
       "      <td>17</td>\n",
       "    </tr>\n",
       "    <tr>\n",
       "      <th>2</th>\n",
       "      <td>1</td>\n",
       "      <td>6</td>\n",
       "      <td>30</td>\n",
       "      <td>0</td>\n",
       "      <td>7</td>\n",
       "      <td>Hernia:30</td>\n",
       "      <td>30</td>\n",
       "    </tr>\n",
       "    <tr>\n",
       "      <th>3</th>\n",
       "      <td>1</td>\n",
       "      <td>23</td>\n",
       "      <td>36</td>\n",
       "      <td>1</td>\n",
       "      <td>8</td>\n",
       "      <td>Infection and Diabetes:36</td>\n",
       "      <td>36</td>\n",
       "    </tr>\n",
       "    <tr>\n",
       "      <th>4</th>\n",
       "      <td>1</td>\n",
       "      <td>22</td>\n",
       "      <td>58</td>\n",
       "      <td>2</td>\n",
       "      <td>9</td>\n",
       "      <td>Right Ovarian Cyst:58</td>\n",
       "      <td>58</td>\n",
       "    </tr>\n",
       "    <tr>\n",
       "      <th>...</th>\n",
       "      <td>...</td>\n",
       "      <td>...</td>\n",
       "      <td>...</td>\n",
       "      <td>...</td>\n",
       "      <td>...</td>\n",
       "      <td>...</td>\n",
       "      <td>...</td>\n",
       "    </tr>\n",
       "    <tr>\n",
       "      <th>833</th>\n",
       "      <td>1</td>\n",
       "      <td>0.008219</td>\n",
       "      <td>38</td>\n",
       "      <td>3</td>\n",
       "      <td>21</td>\n",
       "      <td>Infectious risk:38</td>\n",
       "      <td>38</td>\n",
       "    </tr>\n",
       "    <tr>\n",
       "      <th>834</th>\n",
       "      <td>0</td>\n",
       "      <td>0.010959</td>\n",
       "      <td>42</td>\n",
       "      <td>3</td>\n",
       "      <td>21</td>\n",
       "      <td>Macrosomia:42</td>\n",
       "      <td>42</td>\n",
       "    </tr>\n",
       "    <tr>\n",
       "      <th>835</th>\n",
       "      <td>1</td>\n",
       "      <td>0.013699</td>\n",
       "      <td>41</td>\n",
       "      <td>3</td>\n",
       "      <td>21</td>\n",
       "      <td>Low birth weight:41</td>\n",
       "      <td>41</td>\n",
       "    </tr>\n",
       "    <tr>\n",
       "      <th>836</th>\n",
       "      <td>1</td>\n",
       "      <td>0.016438</td>\n",
       "      <td>41</td>\n",
       "      <td>3</td>\n",
       "      <td>21</td>\n",
       "      <td>Low birth weight:41</td>\n",
       "      <td>41</td>\n",
       "    </tr>\n",
       "    <tr>\n",
       "      <th>837</th>\n",
       "      <td>0</td>\n",
       "      <td>0.019178</td>\n",
       "      <td>42</td>\n",
       "      <td>3</td>\n",
       "      <td>21</td>\n",
       "      <td>Macrosomia:42</td>\n",
       "      <td>42</td>\n",
       "    </tr>\n",
       "  </tbody>\n",
       "</table>\n",
       "<p>835 rows × 7 columns</p>\n",
       "</div>"
      ],
      "text/plain": [
       "     Gender       Age  Disease  Service  Periode              DiseaseBackup  \\\n",
       "0         0        12       43        0        5                 Malaria:43   \n",
       "1         0        30       17        1        6                Diabetes:17   \n",
       "2         1         6       30        0        7                  Hernia:30   \n",
       "3         1        23       36        1        8  Infection and Diabetes:36   \n",
       "4         1        22       58        2        9      Right Ovarian Cyst:58   \n",
       "..      ...       ...      ...      ...      ...                        ...   \n",
       "833       1  0.008219       38        3       21         Infectious risk:38   \n",
       "834       0  0.010959       42        3       21              Macrosomia:42   \n",
       "835       1  0.013699       41        3       21        Low birth weight:41   \n",
       "836       1  0.016438       41        3       21        Low birth weight:41   \n",
       "837       0  0.019178       42        3       21              Macrosomia:42   \n",
       "\n",
       "     DC  \n",
       "0    43  \n",
       "1    17  \n",
       "2    30  \n",
       "3    36  \n",
       "4    58  \n",
       "..   ..  \n",
       "833  38  \n",
       "834  42  \n",
       "835  41  \n",
       "836  41  \n",
       "837  42  \n",
       "\n",
       "[835 rows x 7 columns]"
      ]
     },
     "execution_count": 52,
     "metadata": {},
     "output_type": "execute_result"
    }
   ],
   "source": [
    "dataFinal"
   ]
  },
  {
   "cell_type": "code",
   "execution_count": 53,
   "metadata": {},
   "outputs": [],
   "source": [
    "dataFinal=dataFinal.drop(['DC'],axis=1)"
   ]
  },
  {
   "cell_type": "code",
   "execution_count": 54,
   "metadata": {},
   "outputs": [],
   "source": [
    "dataFinal.to_csv(\"dataFinalAvecComment.csv\")"
   ]
  },
  {
   "cell_type": "code",
   "execution_count": 55,
   "metadata": {},
   "outputs": [],
   "source": [
    "dataFinal=dataFinal.drop(['DiseaseBackup'],axis=1)"
   ]
  },
  {
   "cell_type": "code",
   "execution_count": 56,
   "metadata": {},
   "outputs": [
    {
     "data": {
      "text/html": [
       "<div>\n",
       "<style scoped>\n",
       "    .dataframe tbody tr th:only-of-type {\n",
       "        vertical-align: middle;\n",
       "    }\n",
       "\n",
       "    .dataframe tbody tr th {\n",
       "        vertical-align: top;\n",
       "    }\n",
       "\n",
       "    .dataframe thead th {\n",
       "        text-align: right;\n",
       "    }\n",
       "</style>\n",
       "<table border=\"1\" class=\"dataframe\">\n",
       "  <thead>\n",
       "    <tr style=\"text-align: right;\">\n",
       "      <th></th>\n",
       "      <th>Gender</th>\n",
       "      <th>Age</th>\n",
       "      <th>Disease</th>\n",
       "      <th>Service</th>\n",
       "      <th>Periode</th>\n",
       "    </tr>\n",
       "  </thead>\n",
       "  <tbody>\n",
       "    <tr>\n",
       "      <th>0</th>\n",
       "      <td>0</td>\n",
       "      <td>12</td>\n",
       "      <td>43</td>\n",
       "      <td>0</td>\n",
       "      <td>5</td>\n",
       "    </tr>\n",
       "    <tr>\n",
       "      <th>1</th>\n",
       "      <td>0</td>\n",
       "      <td>30</td>\n",
       "      <td>17</td>\n",
       "      <td>1</td>\n",
       "      <td>6</td>\n",
       "    </tr>\n",
       "    <tr>\n",
       "      <th>2</th>\n",
       "      <td>1</td>\n",
       "      <td>6</td>\n",
       "      <td>30</td>\n",
       "      <td>0</td>\n",
       "      <td>7</td>\n",
       "    </tr>\n",
       "    <tr>\n",
       "      <th>3</th>\n",
       "      <td>1</td>\n",
       "      <td>23</td>\n",
       "      <td>36</td>\n",
       "      <td>1</td>\n",
       "      <td>8</td>\n",
       "    </tr>\n",
       "    <tr>\n",
       "      <th>4</th>\n",
       "      <td>1</td>\n",
       "      <td>22</td>\n",
       "      <td>58</td>\n",
       "      <td>2</td>\n",
       "      <td>9</td>\n",
       "    </tr>\n",
       "    <tr>\n",
       "      <th>...</th>\n",
       "      <td>...</td>\n",
       "      <td>...</td>\n",
       "      <td>...</td>\n",
       "      <td>...</td>\n",
       "      <td>...</td>\n",
       "    </tr>\n",
       "    <tr>\n",
       "      <th>833</th>\n",
       "      <td>1</td>\n",
       "      <td>0.008219</td>\n",
       "      <td>38</td>\n",
       "      <td>3</td>\n",
       "      <td>21</td>\n",
       "    </tr>\n",
       "    <tr>\n",
       "      <th>834</th>\n",
       "      <td>0</td>\n",
       "      <td>0.010959</td>\n",
       "      <td>42</td>\n",
       "      <td>3</td>\n",
       "      <td>21</td>\n",
       "    </tr>\n",
       "    <tr>\n",
       "      <th>835</th>\n",
       "      <td>1</td>\n",
       "      <td>0.013699</td>\n",
       "      <td>41</td>\n",
       "      <td>3</td>\n",
       "      <td>21</td>\n",
       "    </tr>\n",
       "    <tr>\n",
       "      <th>836</th>\n",
       "      <td>1</td>\n",
       "      <td>0.016438</td>\n",
       "      <td>41</td>\n",
       "      <td>3</td>\n",
       "      <td>21</td>\n",
       "    </tr>\n",
       "    <tr>\n",
       "      <th>837</th>\n",
       "      <td>0</td>\n",
       "      <td>0.019178</td>\n",
       "      <td>42</td>\n",
       "      <td>3</td>\n",
       "      <td>21</td>\n",
       "    </tr>\n",
       "  </tbody>\n",
       "</table>\n",
       "<p>835 rows × 5 columns</p>\n",
       "</div>"
      ],
      "text/plain": [
       "     Gender       Age  Disease  Service  Periode\n",
       "0         0        12       43        0        5\n",
       "1         0        30       17        1        6\n",
       "2         1         6       30        0        7\n",
       "3         1        23       36        1        8\n",
       "4         1        22       58        2        9\n",
       "..      ...       ...      ...      ...      ...\n",
       "833       1  0.008219       38        3       21\n",
       "834       0  0.010959       42        3       21\n",
       "835       1  0.013699       41        3       21\n",
       "836       1  0.016438       41        3       21\n",
       "837       0  0.019178       42        3       21\n",
       "\n",
       "[835 rows x 5 columns]"
      ]
     },
     "execution_count": 56,
     "metadata": {},
     "output_type": "execute_result"
    }
   ],
   "source": [
    "dataFinal"
   ]
  },
  {
   "cell_type": "code",
   "execution_count": 57,
   "metadata": {},
   "outputs": [
    {
     "name": "stdout",
     "output_type": "stream",
     "text": [
      "<class 'pandas.core.frame.DataFrame'>\n",
      "Int64Index: 835 entries, 0 to 837\n",
      "Data columns (total 5 columns):\n",
      " #   Column   Non-Null Count  Dtype \n",
      "---  ------   --------------  ----- \n",
      " 0   Gender   835 non-null    int64 \n",
      " 1   Age      835 non-null    object\n",
      " 2   Disease  835 non-null    int32 \n",
      " 3   Service  835 non-null    int64 \n",
      " 4   Periode  835 non-null    int32 \n",
      "dtypes: int32(2), int64(2), object(1)\n",
      "memory usage: 32.6+ KB\n"
     ]
    }
   ],
   "source": [
    "dataFinal.info()"
   ]
  },
  {
   "cell_type": "code",
   "execution_count": 58,
   "metadata": {},
   "outputs": [],
   "source": [
    "dataFinal.Age=dataFinal.Age.astype(float)"
   ]
  },
  {
   "cell_type": "code",
   "execution_count": 59,
   "metadata": {},
   "outputs": [
    {
     "name": "stdout",
     "output_type": "stream",
     "text": [
      "<class 'pandas.core.frame.DataFrame'>\n",
      "Int64Index: 835 entries, 0 to 837\n",
      "Data columns (total 5 columns):\n",
      " #   Column   Non-Null Count  Dtype  \n",
      "---  ------   --------------  -----  \n",
      " 0   Gender   835 non-null    int64  \n",
      " 1   Age      835 non-null    float64\n",
      " 2   Disease  835 non-null    int32  \n",
      " 3   Service  835 non-null    int64  \n",
      " 4   Periode  835 non-null    int32  \n",
      "dtypes: float64(1), int32(2), int64(2)\n",
      "memory usage: 32.6 KB\n"
     ]
    }
   ],
   "source": [
    "dataFinal.info()"
   ]
  },
  {
   "cell_type": "markdown",
   "metadata": {},
   "source": [
    "# Debut ML"
   ]
  },
  {
   "cell_type": "code",
   "execution_count": 60,
   "metadata": {},
   "outputs": [],
   "source": [
    "X=dataFinal.drop(['Periode'],axis=1)\n",
    "y=dataFinal['Periode']"
   ]
  },
  {
   "cell_type": "code",
   "execution_count": 61,
   "metadata": {},
   "outputs": [],
   "source": [
    "from sklearn.model_selection import train_test_split"
   ]
  },
  {
   "cell_type": "code",
   "execution_count": 62,
   "metadata": {},
   "outputs": [],
   "source": [
    "X_train,X_test,y_train,y_test=train_test_split(X,y,test_size=.2,\n",
    "                                               random_state=101)"
   ]
  },
  {
   "cell_type": "code",
   "execution_count": 63,
   "metadata": {},
   "outputs": [],
   "source": [
    "from sklearn.tree import DecisionTreeRegressor"
   ]
  },
  {
   "cell_type": "code",
   "execution_count": 64,
   "metadata": {},
   "outputs": [
    {
     "data": {
      "text/plain": [
       "DecisionTreeRegressor()"
      ]
     },
     "execution_count": 64,
     "metadata": {},
     "output_type": "execute_result"
    }
   ],
   "source": [
    "modelDT=DecisionTreeRegressor()\n",
    "modelDT.fit(X_train,y_train)"
   ]
  },
  {
   "cell_type": "code",
   "execution_count": 65,
   "metadata": {},
   "outputs": [],
   "source": [
    "y_predict_dt=modelDT.predict(X_test)"
   ]
  },
  {
   "cell_type": "code",
   "execution_count": 66,
   "metadata": {},
   "outputs": [
    {
     "data": {
      "text/html": [
       "<div>\n",
       "<style scoped>\n",
       "    .dataframe tbody tr th:only-of-type {\n",
       "        vertical-align: middle;\n",
       "    }\n",
       "\n",
       "    .dataframe tbody tr th {\n",
       "        vertical-align: top;\n",
       "    }\n",
       "\n",
       "    .dataframe thead th {\n",
       "        text-align: right;\n",
       "    }\n",
       "</style>\n",
       "<table border=\"1\" class=\"dataframe\">\n",
       "  <thead>\n",
       "    <tr style=\"text-align: right;\">\n",
       "      <th></th>\n",
       "      <th>Vrai Y</th>\n",
       "      <th>Y predits</th>\n",
       "    </tr>\n",
       "  </thead>\n",
       "  <tbody>\n",
       "    <tr>\n",
       "      <th>758</th>\n",
       "      <td>67</td>\n",
       "      <td>44.000000</td>\n",
       "    </tr>\n",
       "    <tr>\n",
       "      <th>567</th>\n",
       "      <td>54</td>\n",
       "      <td>50.666667</td>\n",
       "    </tr>\n",
       "    <tr>\n",
       "      <th>276</th>\n",
       "      <td>22</td>\n",
       "      <td>22.000000</td>\n",
       "    </tr>\n",
       "    <tr>\n",
       "      <th>781</th>\n",
       "      <td>33</td>\n",
       "      <td>21.000000</td>\n",
       "    </tr>\n",
       "    <tr>\n",
       "      <th>58</th>\n",
       "      <td>2</td>\n",
       "      <td>100.000000</td>\n",
       "    </tr>\n",
       "    <tr>\n",
       "      <th>...</th>\n",
       "      <td>...</td>\n",
       "      <td>...</td>\n",
       "    </tr>\n",
       "    <tr>\n",
       "      <th>826</th>\n",
       "      <td>21</td>\n",
       "      <td>21.000000</td>\n",
       "    </tr>\n",
       "    <tr>\n",
       "      <th>410</th>\n",
       "      <td>13</td>\n",
       "      <td>13.000000</td>\n",
       "    </tr>\n",
       "    <tr>\n",
       "      <th>563</th>\n",
       "      <td>54</td>\n",
       "      <td>50.666667</td>\n",
       "    </tr>\n",
       "    <tr>\n",
       "      <th>466</th>\n",
       "      <td>61</td>\n",
       "      <td>61.000000</td>\n",
       "    </tr>\n",
       "    <tr>\n",
       "      <th>203</th>\n",
       "      <td>53</td>\n",
       "      <td>53.000000</td>\n",
       "    </tr>\n",
       "  </tbody>\n",
       "</table>\n",
       "<p>167 rows × 2 columns</p>\n",
       "</div>"
      ],
      "text/plain": [
       "     Vrai Y   Y predits\n",
       "758      67   44.000000\n",
       "567      54   50.666667\n",
       "276      22   22.000000\n",
       "781      33   21.000000\n",
       "58        2  100.000000\n",
       "..      ...         ...\n",
       "826      21   21.000000\n",
       "410      13   13.000000\n",
       "563      54   50.666667\n",
       "466      61   61.000000\n",
       "203      53   53.000000\n",
       "\n",
       "[167 rows x 2 columns]"
      ]
     },
     "execution_count": 66,
     "metadata": {},
     "output_type": "execute_result"
    }
   ],
   "source": [
    "dtDF=pd.DataFrame({'Vrai Y':y_test,'Y predits':y_predict_dt})\n",
    "dtDF"
   ]
  },
  {
   "cell_type": "code",
   "execution_count": 67,
   "metadata": {},
   "outputs": [],
   "source": [
    "from sklearn import metrics\n",
    "import numpy as np\n",
    "maeDT=metrics.mean_absolute_error(y_test,y_predict_dt)\n",
    "mseDT=metrics.mean_squared_error(y_test,y_predict_dt)\n",
    "rmseDT=np.sqrt(mseDT)\n",
    "r2DT=metrics.r2_score(y_test,y_predict_dt)"
   ]
  },
  {
   "cell_type": "code",
   "execution_count": 68,
   "metadata": {},
   "outputs": [],
   "source": [
    "from sklearn.ensemble import RandomForestRegressor"
   ]
  },
  {
   "cell_type": "code",
   "execution_count": 69,
   "metadata": {},
   "outputs": [],
   "source": [
    "modelRF=RandomForestRegressor()\n",
    "modelRF.fit(X_train,y_train)\n",
    "y_predictRF=modelRF.predict(X_test)"
   ]
  },
  {
   "cell_type": "code",
   "execution_count": 70,
   "metadata": {},
   "outputs": [
    {
     "data": {
      "text/html": [
       "<div>\n",
       "<style scoped>\n",
       "    .dataframe tbody tr th:only-of-type {\n",
       "        vertical-align: middle;\n",
       "    }\n",
       "\n",
       "    .dataframe tbody tr th {\n",
       "        vertical-align: top;\n",
       "    }\n",
       "\n",
       "    .dataframe thead th {\n",
       "        text-align: right;\n",
       "    }\n",
       "</style>\n",
       "<table border=\"1\" class=\"dataframe\">\n",
       "  <thead>\n",
       "    <tr style=\"text-align: right;\">\n",
       "      <th></th>\n",
       "      <th>Vrai Y</th>\n",
       "      <th>Y predits</th>\n",
       "    </tr>\n",
       "  </thead>\n",
       "  <tbody>\n",
       "    <tr>\n",
       "      <th>758</th>\n",
       "      <td>67</td>\n",
       "      <td>45.168517</td>\n",
       "    </tr>\n",
       "    <tr>\n",
       "      <th>567</th>\n",
       "      <td>54</td>\n",
       "      <td>50.590038</td>\n",
       "    </tr>\n",
       "    <tr>\n",
       "      <th>276</th>\n",
       "      <td>22</td>\n",
       "      <td>21.990000</td>\n",
       "    </tr>\n",
       "    <tr>\n",
       "      <th>781</th>\n",
       "      <td>33</td>\n",
       "      <td>40.235000</td>\n",
       "    </tr>\n",
       "    <tr>\n",
       "      <th>58</th>\n",
       "      <td>2</td>\n",
       "      <td>29.250000</td>\n",
       "    </tr>\n",
       "    <tr>\n",
       "      <th>...</th>\n",
       "      <td>...</td>\n",
       "      <td>...</td>\n",
       "    </tr>\n",
       "    <tr>\n",
       "      <th>826</th>\n",
       "      <td>21</td>\n",
       "      <td>125.182500</td>\n",
       "    </tr>\n",
       "    <tr>\n",
       "      <th>410</th>\n",
       "      <td>13</td>\n",
       "      <td>15.640000</td>\n",
       "    </tr>\n",
       "    <tr>\n",
       "      <th>563</th>\n",
       "      <td>54</td>\n",
       "      <td>50.590038</td>\n",
       "    </tr>\n",
       "    <tr>\n",
       "      <th>466</th>\n",
       "      <td>61</td>\n",
       "      <td>56.780000</td>\n",
       "    </tr>\n",
       "    <tr>\n",
       "      <th>203</th>\n",
       "      <td>53</td>\n",
       "      <td>52.650000</td>\n",
       "    </tr>\n",
       "  </tbody>\n",
       "</table>\n",
       "<p>167 rows × 2 columns</p>\n",
       "</div>"
      ],
      "text/plain": [
       "     Vrai Y   Y predits\n",
       "758      67   45.168517\n",
       "567      54   50.590038\n",
       "276      22   21.990000\n",
       "781      33   40.235000\n",
       "58        2   29.250000\n",
       "..      ...         ...\n",
       "826      21  125.182500\n",
       "410      13   15.640000\n",
       "563      54   50.590038\n",
       "466      61   56.780000\n",
       "203      53   52.650000\n",
       "\n",
       "[167 rows x 2 columns]"
      ]
     },
     "execution_count": 70,
     "metadata": {},
     "output_type": "execute_result"
    }
   ],
   "source": [
    "RFDF=pd.DataFrame({'Vrai Y':y_test,'Y predits':y_predictRF})\n",
    "RFDF"
   ]
  },
  {
   "cell_type": "code",
   "execution_count": 71,
   "metadata": {},
   "outputs": [],
   "source": [
    "maeRF=metrics.mean_absolute_error(y_test,y_predictRF)\n",
    "mseRF=metrics.mean_squared_error(y_test,y_predictRF)\n",
    "rmseRF=np.sqrt(mseRF)\n",
    "r2RF=metrics.r2_score(y_test,y_predictRF)"
   ]
  },
  {
   "cell_type": "code",
   "execution_count": 72,
   "metadata": {},
   "outputs": [],
   "source": [
    "modeles=['Arbre de décision','Random forest']\n",
    "mae=[maeDT,maeRF]\n",
    "mse=[mseDT,mseRF]\n",
    "rmse=[rmseDT,rmseRF]\n",
    "r2=[r2DT,r2RF]"
   ]
  },
  {
   "cell_type": "code",
   "execution_count": 73,
   "metadata": {},
   "outputs": [],
   "source": [
    "evaluationFinale=pd.DataFrame({'Modeles':modeles,'MAE':mae,'MSE':mse,\n",
    "                              'RMSE':rmse,'R squared':r2})"
   ]
  },
  {
   "cell_type": "code",
   "execution_count": 74,
   "metadata": {},
   "outputs": [
    {
     "data": {
      "text/html": [
       "<div>\n",
       "<style scoped>\n",
       "    .dataframe tbody tr th:only-of-type {\n",
       "        vertical-align: middle;\n",
       "    }\n",
       "\n",
       "    .dataframe tbody tr th {\n",
       "        vertical-align: top;\n",
       "    }\n",
       "\n",
       "    .dataframe thead th {\n",
       "        text-align: right;\n",
       "    }\n",
       "</style>\n",
       "<table border=\"1\" class=\"dataframe\">\n",
       "  <thead>\n",
       "    <tr style=\"text-align: right;\">\n",
       "      <th></th>\n",
       "      <th>Modeles</th>\n",
       "      <th>MAE</th>\n",
       "      <th>MSE</th>\n",
       "      <th>RMSE</th>\n",
       "      <th>R squared</th>\n",
       "    </tr>\n",
       "  </thead>\n",
       "  <tbody>\n",
       "    <tr>\n",
       "      <th>0</th>\n",
       "      <td>Arbre de décision</td>\n",
       "      <td>15.337924</td>\n",
       "      <td>1817.770169</td>\n",
       "      <td>42.635316</td>\n",
       "      <td>0.354157</td>\n",
       "    </tr>\n",
       "    <tr>\n",
       "      <th>1</th>\n",
       "      <td>Random forest</td>\n",
       "      <td>16.250216</td>\n",
       "      <td>1621.665364</td>\n",
       "      <td>40.269906</td>\n",
       "      <td>0.423832</td>\n",
       "    </tr>\n",
       "  </tbody>\n",
       "</table>\n",
       "</div>"
      ],
      "text/plain": [
       "             Modeles        MAE          MSE       RMSE  R squared\n",
       "0  Arbre de décision  15.337924  1817.770169  42.635316   0.354157\n",
       "1      Random forest  16.250216  1621.665364  40.269906   0.423832"
      ]
     },
     "execution_count": 74,
     "metadata": {},
     "output_type": "execute_result"
    }
   ],
   "source": [
    "evaluationFinale"
   ]
  },
  {
   "cell_type": "markdown",
   "metadata": {},
   "source": [
    "# Comprehension statistique des données"
   ]
  },
  {
   "cell_type": "code",
   "execution_count": 75,
   "metadata": {},
   "outputs": [],
   "source": [
    "from scipy import stats\n",
    "from scipy.stats import norm\n",
    "import seaborn as sns\n",
    "import matplotlib.pyplot as plt"
   ]
  },
  {
   "cell_type": "code",
   "execution_count": 76,
   "metadata": {},
   "outputs": [
    {
     "name": "stderr",
     "output_type": "stream",
     "text": [
      "C:\\Users\\ANGEL\\Anaconda3\\lib\\site-packages\\seaborn\\distributions.py:2619: FutureWarning: `distplot` is a deprecated function and will be removed in a future version. Please adapt your code to use either `displot` (a figure-level function with similar flexibility) or `histplot` (an axes-level function for histograms).\n",
      "  warnings.warn(msg, FutureWarning)\n"
     ]
    },
    {
     "data": {
      "image/png": "[encoded data removed]",
      "text/plain": [
       "<Figure size 432x288 with 1 Axes>"
      ]
     },
     "metadata": {
      "needs_background": "light"
     },
     "output_type": "display_data"
    },
    {
     "data": {
      "image/png": "[encoded data removed]",
      "text/plain": [
       "<Figure size 432x288 with 1 Axes>"
      ]
     },
     "metadata": {
      "needs_background": "light"
     },
     "output_type": "display_data"
    }
   ],
   "source": [
    "sns.distplot(dataFinal['Periode'],fit=norm)\n",
    "(mu,sigma)=norm.fit(dataFinal['Periode'])\n",
    "plt.legend(['Distribution normale($\\mu=${:.2f} et $\\sigma$={:.2f}\\n'.format(mu,sigma)], loc='best')\n",
    "plt.ylabel('Frequence')\n",
    "plt.title('Distribution des données de Période')\n",
    "\n",
    "fig=plt.figure()\n",
    "resPeriode=stats.probplot(dataFinal['Periode'], plot=plt)\n",
    "plt.show()"
   ]
  },
  {
   "cell_type": "code",
   "execution_count": 77,
   "metadata": {},
   "outputs": [
    {
     "name": "stderr",
     "output_type": "stream",
     "text": [
      "C:\\Users\\ANGEL\\Anaconda3\\lib\\site-packages\\seaborn\\distributions.py:2619: FutureWarning: `distplot` is a deprecated function and will be removed in a future version. Please adapt your code to use either `displot` (a figure-level function with similar flexibility) or `histplot` (an axes-level function for histograms).\n",
      "  warnings.warn(msg, FutureWarning)\n"
     ]
    },
    {
     "data": {
      "image/png": "[encoded data removed]",
      "text/plain": [
       "<Figure size 432x288 with 1 Axes>"
      ]
     },
     "metadata": {
      "needs_background": "light"
     },
     "output_type": "display_data"
    },
    {
     "data": {
      "image/png": "[encoded data removed]",
      "text/plain": [
       "<Figure size 432x288 with 1 Axes>"
      ]
     },
     "metadata": {
      "needs_background": "light"
     },
     "output_type": "display_data"
    }
   ],
   "source": [
    "sns.distplot(dataFinal['Age'],fit=norm)\n",
    "(mu,sigma)=norm.fit(dataFinal['Age'])\n",
    "plt.legend(['Distribution normale($\\mu=${:.2f} et $\\sigma$={:.2f}\\n'.format(mu,sigma)], loc='best')\n",
    "plt.ylabel('Frequence')\n",
    "plt.title('Distribution des données de Age')\n",
    "\n",
    "fig=plt.figure()\n",
    "resAge=stats.probplot(dataFinal['Age'], plot=plt)\n",
    "plt.show()"
   ]
  },
  {
   "cell_type": "code",
   "execution_count": 78,
   "metadata": {},
   "outputs": [
    {
     "name": "stderr",
     "output_type": "stream",
     "text": [
      "C:\\Users\\ANGEL\\Anaconda3\\lib\\site-packages\\seaborn\\distributions.py:2619: FutureWarning: `distplot` is a deprecated function and will be removed in a future version. Please adapt your code to use either `displot` (a figure-level function with similar flexibility) or `histplot` (an axes-level function for histograms).\n",
      "  warnings.warn(msg, FutureWarning)\n"
     ]
    },
    {
     "data": {
      "image/png": "[encoded data removed]",
      "text/plain": [
       "<Figure size 432x288 with 1 Axes>"
      ]
     },
     "metadata": {
      "needs_background": "light"
     },
     "output_type": "display_data"
    },
    {
     "data": {
      "image/png": "[encoded data removed]",
      "text/plain": [
       "<Figure size 432x288 with 1 Axes>"
      ]
     },
     "metadata": {
      "needs_background": "light"
     },
     "output_type": "display_data"
    }
   ],
   "source": [
    "sns.distplot(dataFinal['Gender'],fit=norm)\n",
    "(mu,sigma)=norm.fit(dataFinal['Gender'])\n",
    "plt.legend(['Distribution normale($\\mu=${:.2f} et $\\sigma$={:.2f}\\n'.format(mu,sigma)], loc='best')\n",
    "plt.ylabel('Frequence')\n",
    "plt.title('Distribution des données de Gender')\n",
    "\n",
    "fig=plt.figure()\n",
    "resGender=stats.probplot(dataFinal['Gender'], plot=plt)\n",
    "plt.show()"
   ]
  },
  {
   "cell_type": "code",
   "execution_count": 79,
   "metadata": {},
   "outputs": [
    {
     "name": "stderr",
     "output_type": "stream",
     "text": [
      "C:\\Users\\ANGEL\\Anaconda3\\lib\\site-packages\\seaborn\\distributions.py:2619: FutureWarning: `distplot` is a deprecated function and will be removed in a future version. Please adapt your code to use either `displot` (a figure-level function with similar flexibility) or `histplot` (an axes-level function for histograms).\n",
      "  warnings.warn(msg, FutureWarning)\n"
     ]
    },
    {
     "data": {
      "image/png": "[encoded data removed]",
      "text/plain": [
       "<Figure size 432x288 with 1 Axes>"
      ]
     },
     "metadata": {
      "needs_background": "light"
     },
     "output_type": "display_data"
    },
    {
     "data": {
      "image/png": "[encoded data removed]",
      "text/plain": [
       "<Figure size 432x288 with 1 Axes>"
      ]
     },
     "metadata": {
      "needs_background": "light"
     },
     "output_type": "display_data"
    }
   ],
   "source": [
    "sns.distplot(dataFinal['Disease'],fit=norm)\n",
    "(mu,sigma)=norm.fit(dataFinal['Disease'])\n",
    "plt.legend(['Distribution normale($\\mu=${:.2f} et $\\sigma$={:.2f}\\n'.format(mu,sigma)], loc='best')\n",
    "plt.ylabel('Frequence')\n",
    "plt.title('Distribution des données de Disease')\n",
    "\n",
    "fig=plt.figure()\n",
    "resPeriode=stats.probplot(dataFinal['Disease'], plot=plt)\n",
    "plt.show()"
   ]
  },
  {
   "cell_type": "code",
   "execution_count": 80,
   "metadata": {},
   "outputs": [
    {
     "name": "stderr",
     "output_type": "stream",
     "text": [
      "C:\\Users\\ANGEL\\Anaconda3\\lib\\site-packages\\seaborn\\distributions.py:2619: FutureWarning: `distplot` is a deprecated function and will be removed in a future version. Please adapt your code to use either `displot` (a figure-level function with similar flexibility) or `histplot` (an axes-level function for histograms).\n",
      "  warnings.warn(msg, FutureWarning)\n"
     ]
    },
    {
     "data": {
      "image/png": "[encoded data removed]",
      "text/plain": [
       "<Figure size 432x288 with 1 Axes>"
      ]
     },
     "metadata": {
      "needs_background": "light"
     },
     "output_type": "display_data"
    },
    {
     "data": {
      "image/png": "[encoded data removed]",
      "text/plain": [
       "<Figure size 432x288 with 1 Axes>"
      ]
     },
     "metadata": {
      "needs_background": "light"
     },
     "output_type": "display_data"
    }
   ],
   "source": [
    "sns.distplot(dataFinal['Service'],fit=norm)\n",
    "(mu,sigma)=norm.fit(dataFinal['Service'])\n",
    "plt.legend(['Distribution normale($\\mu=${:.2f} et $\\sigma$={:.2f}\\n'.format(mu,sigma)], loc='best')\n",
    "plt.ylabel('Frequence')\n",
    "plt.title('Distribution des données de Service')\n",
    "\n",
    "fig=plt.figure()\n",
    "resPeriode=stats.probplot(dataFinal['Service'], plot=plt)\n",
    "plt.show()"
   ]
  },
  {
   "cell_type": "code",
   "execution_count": 81,
   "metadata": {},
   "outputs": [
    {
     "data": {
      "text/plain": [
       "<AxesSubplot:>"
      ]
     },
     "execution_count": 81,
     "metadata": {},
     "output_type": "execute_result"
    },
    {
     "data": {
      "image/png": "[encoded data removed]",
      "text/plain": [
       "<Figure size 432x288 with 1 Axes>"
      ]
     },
     "metadata": {
      "needs_background": "light"
     },
     "output_type": "display_data"
    }
   ],
   "source": [
    "dataFinal.boxplot()"
   ]
  },
  {
   "cell_type": "code",
   "execution_count": 82,
   "metadata": {},
   "outputs": [],
   "source": [
    "for age in ['Age']:\n",
    "    Q3,Q1=np.percentile(dataFinal.loc[:,age],[75,25])\n",
    "    IQR=Q3-Q1\n",
    "    min=Q1-(1.5*IQR)\n",
    "    max=Q3+(1.5*IQR)\n",
    "    dataFinal.loc[dataFinal[age]<min, age]=np.nan\n",
    "    dataFinal.loc[dataFinal[age]>max, age]=np.nan"
   ]
  },
  {
   "cell_type": "code",
   "execution_count": 83,
   "metadata": {},
   "outputs": [],
   "source": [
    "for periode in ['Periode']:\n",
    "    Q3,Q1=np.percentile(dataFinal.loc[:,periode ],[75,25])\n",
    "    IQR=Q3-Q1\n",
    "    min=Q1-(1.5*IQR)\n",
    "    max=Q3+(1.5*IQR)\n",
    "    dataFinal.loc[dataFinal[periode]<min, periode]=np.nan\n",
    "    dataFinal.loc[dataFinal[periode]>max, periode]=np.nan"
   ]
  },
  {
   "cell_type": "code",
   "execution_count": 84,
   "metadata": {},
   "outputs": [],
   "source": [
    "dataFinal=dataFinal.dropna(how='any')"
   ]
  },
  {
   "cell_type": "code",
   "execution_count": 85,
   "metadata": {},
   "outputs": [
    {
     "data": {
      "text/plain": [
       "<AxesSubplot:>"
      ]
     },
     "execution_count": 85,
     "metadata": {},
     "output_type": "execute_result"
    },
    {
     "data": {
      "image/png": "[encoded data removed]",
      "text/plain": [
       "<Figure size 432x288 with 1 Axes>"
      ]
     },
     "metadata": {
      "needs_background": "light"
     },
     "output_type": "display_data"
    }
   ],
   "source": [
    "dataFinal.boxplot()"
   ]
  },
  {
   "cell_type": "code",
   "execution_count": 86,
   "metadata": {},
   "outputs": [
    {
     "data": {
      "text/plain": [
       "Gender     0\n",
       "Age        0\n",
       "Disease    0\n",
       "Service    0\n",
       "Periode    0\n",
       "dtype: int64"
      ]
     },
     "execution_count": 86,
     "metadata": {},
     "output_type": "execute_result"
    }
   ],
   "source": [
    "dataFinal.isnull().sum()"
   ]
  },
  {
   "cell_type": "code",
   "execution_count": 87,
   "metadata": {},
   "outputs": [
    {
     "name": "stderr",
     "output_type": "stream",
     "text": [
      "C:\\Users\\ANGEL\\AppData\\Local\\Temp\\ipykernel_7140\\3929926361.py:1: SettingWithCopyWarning: \n",
      "A value is trying to be set on a copy of a slice from a DataFrame.\n",
      "Try using .loc[row_indexer,col_indexer] = value instead\n",
      "\n",
      "See the caveats in the documentation: https://pandas.pydata.org/pandas-docs/stable/user_guide/indexing.html#returning-a-view-versus-a-copy\n",
      "  dataFinal['Periode']=np.log1p(dataFinal['Periode'])\n",
      "C:\\Users\\ANGEL\\Anaconda3\\lib\\site-packages\\seaborn\\distributions.py:2619: FutureWarning: `distplot` is a deprecated function and will be removed in a future version. Please adapt your code to use either `displot` (a figure-level function with similar flexibility) or `histplot` (an axes-level function for histograms).\n",
      "  warnings.warn(msg, FutureWarning)\n"
     ]
    },
    {
     "data": {
      "image/png": "[encoded data removed]",
      "text/plain": [
       "<Figure size 432x288 with 1 Axes>"
      ]
     },
     "metadata": {
      "needs_background": "light"
     },
     "output_type": "display_data"
    },
    {
     "data": {
      "image/png": "[encoded data removed]",
      "text/plain": [
       "<Figure size 432x288 with 1 Axes>"
      ]
     },
     "metadata": {
      "needs_background": "light"
     },
     "output_type": "display_data"
    }
   ],
   "source": [
    "dataFinal['Periode']=np.log1p(dataFinal['Periode'])\n",
    "sns.distplot(dataFinal['Periode'],fit=norm)\n",
    "(mu,sigma)=norm.fit(dataFinal['Periode'])\n",
    "plt.legend(['Distribution normale($\\mu=${:.2f} et $\\sigma$={:.2f}\\n'.format(mu,sigma)], loc='best')\n",
    "plt.ylabel('Frequence')\n",
    "plt.title('Distribution des données de Période')\n",
    "\n",
    "fig=plt.figure()\n",
    "resPeriode=stats.probplot(dataFinal['Periode'], plot=plt)\n",
    "plt.show()"
   ]
  },
  {
   "cell_type": "code",
   "execution_count": 88,
   "metadata": {},
   "outputs": [
    {
     "name": "stderr",
     "output_type": "stream",
     "text": [
      "C:\\Users\\ANGEL\\AppData\\Local\\Temp\\ipykernel_7140\\3229043589.py:1: SettingWithCopyWarning: \n",
      "A value is trying to be set on a copy of a slice from a DataFrame.\n",
      "Try using .loc[row_indexer,col_indexer] = value instead\n",
      "\n",
      "See the caveats in the documentation: https://pandas.pydata.org/pandas-docs/stable/user_guide/indexing.html#returning-a-view-versus-a-copy\n",
      "  dataFinal['Age']=np.log1p(dataFinal['Age'])\n",
      "C:\\Users\\ANGEL\\Anaconda3\\lib\\site-packages\\seaborn\\distributions.py:2619: FutureWarning: `distplot` is a deprecated function and will be removed in a future version. Please adapt your code to use either `displot` (a figure-level function with similar flexibility) or `histplot` (an axes-level function for histograms).\n",
      "  warnings.warn(msg, FutureWarning)\n"
     ]
    },
    {
     "data": {
      "image/png": "[encoded data removed]",
      "text/plain": [
       "<Figure size 432x288 with 1 Axes>"
      ]
     },
     "metadata": {
      "needs_background": "light"
     },
     "output_type": "display_data"
    },
    {
     "data": {
      "image/png": "[encoded data removed]",
      "text/plain": [
       "<Figure size 432x288 with 1 Axes>"
      ]
     },
     "metadata": {
      "needs_background": "light"
     },
     "output_type": "display_data"
    }
   ],
   "source": [
    "dataFinal['Age']=np.log1p(dataFinal['Age'])\n",
    "sns.distplot(dataFinal['Age'],fit=norm)\n",
    "(mu,sigma)=norm.fit(dataFinal['Age'])\n",
    "plt.legend(['Distribution normale($\\mu=${:.2f} et $\\sigma$={:.2f}\\n'.format(mu,sigma)], loc='best')\n",
    "plt.ylabel('Frequence')\n",
    "plt.title('Distribution des données de Age')\n",
    "\n",
    "fig=plt.figure()\n",
    "resPeriode=stats.probplot(dataFinal['Age'], plot=plt)\n",
    "plt.show()"
   ]
  },
  {
   "cell_type": "code",
   "execution_count": 89,
   "metadata": {},
   "outputs": [],
   "source": [
    "from sklearn.preprocessing import MinMaxScaler\n",
    "sc=MinMaxScaler()"
   ]
  },
  {
   "cell_type": "code",
   "execution_count": 90,
   "metadata": {},
   "outputs": [
    {
     "name": "stderr",
     "output_type": "stream",
     "text": [
      "C:\\Users\\ANGEL\\AppData\\Local\\Temp\\ipykernel_7140\\1985557218.py:2: SettingWithCopyWarning: \n",
      "A value is trying to be set on a copy of a slice from a DataFrame.\n",
      "Try using .loc[row_indexer,col_indexer] = value instead\n",
      "\n",
      "See the caveats in the documentation: https://pandas.pydata.org/pandas-docs/stable/user_guide/indexing.html#returning-a-view-versus-a-copy\n",
      "  dataFinal['Disease']=sc.transform(dataFinal[['Disease']])\n"
     ]
    }
   ],
   "source": [
    "sc.fit(dataFinal[['Disease']])\n",
    "dataFinal['Disease']=sc.transform(dataFinal[['Disease']])"
   ]
  },
  {
   "cell_type": "code",
   "execution_count": 91,
   "metadata": {},
   "outputs": [
    {
     "name": "stderr",
     "output_type": "stream",
     "text": [
      "C:\\Users\\ANGEL\\AppData\\Local\\Temp\\ipykernel_7140\\1288845790.py:1: SettingWithCopyWarning: \n",
      "A value is trying to be set on a copy of a slice from a DataFrame.\n",
      "Try using .loc[row_indexer,col_indexer] = value instead\n",
      "\n",
      "See the caveats in the documentation: https://pandas.pydata.org/pandas-docs/stable/user_guide/indexing.html#returning-a-view-versus-a-copy\n",
      "  dataFinal['Service']=np.log1p(dataFinal['Service'])\n"
     ]
    }
   ],
   "source": [
    "dataFinal['Service']=np.log1p(dataFinal['Service'])"
   ]
  },
  {
   "cell_type": "code",
   "execution_count": 92,
   "metadata": {},
   "outputs": [
    {
     "name": "stderr",
     "output_type": "stream",
     "text": [
      "C:\\Users\\ANGEL\\AppData\\Local\\Temp\\ipykernel_7140\\393385235.py:1: SettingWithCopyWarning: \n",
      "A value is trying to be set on a copy of a slice from a DataFrame.\n",
      "Try using .loc[row_indexer,col_indexer] = value instead\n",
      "\n",
      "See the caveats in the documentation: https://pandas.pydata.org/pandas-docs/stable/user_guide/indexing.html#returning-a-view-versus-a-copy\n",
      "  dataFinal['Gender']=np.log1p(dataFinal['Gender'])\n"
     ]
    }
   ],
   "source": [
    "dataFinal['Gender']=np.log1p(dataFinal['Gender'])"
   ]
  },
  {
   "cell_type": "code",
   "execution_count": 93,
   "metadata": {},
   "outputs": [],
   "source": [
    "Xop=dataFinal.drop(['Periode'],axis=1)\n",
    "yOp=dataFinal['Periode']"
   ]
  },
  {
   "cell_type": "code",
   "execution_count": 94,
   "metadata": {},
   "outputs": [],
   "source": [
    "X_trainOp,X_testOp,y_trainOp,y_testOp=train_test_split(Xop,yOp,test_size=.2,\n",
    "                                                      random_state=101)"
   ]
  },
  {
   "cell_type": "markdown",
   "metadata": {},
   "source": [
    "# Reentrainement des modeles apres optimisation"
   ]
  },
  {
   "cell_type": "code",
   "execution_count": 95,
   "metadata": {},
   "outputs": [],
   "source": [
    "modelRFOp=RandomForestRegressor()\n",
    "modelRFOp.fit(X_trainOp,y_trainOp)\n",
    "y_predictRFOp=modelRFOp.predict(X_testOp)"
   ]
  },
  {
   "cell_type": "code",
   "execution_count": 96,
   "metadata": {},
   "outputs": [],
   "source": [
    "maeRFOp=metrics.mean_absolute_error(y_testOp,y_predictRFOp)\n",
    "mseRFOp=metrics.mean_squared_error(y_testOp,y_predictRFOp)\n",
    "rmseRFOp=np.sqrt(mseRFOp)\n",
    "r2RFOp=metrics.r2_score(y_testOp,y_predictRFOp)"
   ]
  },
  {
   "cell_type": "code",
   "execution_count": 97,
   "metadata": {},
   "outputs": [],
   "source": [
    "modelDTOp=DecisionTreeRegressor()\n",
    "modelDTOp.fit(X_trainOp,y_trainOp)\n",
    "y_predict_dtOp=modelDTOp.predict(X_testOp)"
   ]
  },
  {
   "cell_type": "code",
   "execution_count": 98,
   "metadata": {},
   "outputs": [],
   "source": [
    "maeDTOp=metrics.mean_absolute_error(y_testOp,y_predict_dtOp)\n",
    "mseDTOp=metrics.mean_squared_error(y_testOp,y_predict_dtOp)\n",
    "rmseDTOp=np.sqrt(mseDTOp)\n",
    "r2DTOp=metrics.r2_score(y_testOp,y_predict_dtOp)"
   ]
  },
  {
   "cell_type": "code",
   "execution_count": 99,
   "metadata": {},
   "outputs": [],
   "source": [
    "modelesOp=['Arbre de décision','Random forest']\n",
    "maeOp=[maeDTOp,maeRFOp]\n",
    "mseOp=[mseDTOp,mseRFOp]\n",
    "rmseOp=[rmseDTOp,rmseRFOp]\n",
    "r2Op=[r2DTOp,r2RFOp]"
   ]
  },
  {
   "cell_type": "code",
   "execution_count": 100,
   "metadata": {},
   "outputs": [],
   "source": [
    "evaluationFinaleOp=pd.DataFrame({'Modeles':modelesOp,'MAE':maeOp,'MSE':mseOp,\n",
    "                              'RMSE':rmseOp,'R squared':r2Op})"
   ]
  },
  {
   "cell_type": "code",
   "execution_count": 101,
   "metadata": {},
   "outputs": [
    {
     "data": {
      "text/html": [
       "<div>\n",
       "<style scoped>\n",
       "    .dataframe tbody tr th:only-of-type {\n",
       "        vertical-align: middle;\n",
       "    }\n",
       "\n",
       "    .dataframe tbody tr th {\n",
       "        vertical-align: top;\n",
       "    }\n",
       "\n",
       "    .dataframe thead th {\n",
       "        text-align: right;\n",
       "    }\n",
       "</style>\n",
       "<table border=\"1\" class=\"dataframe\">\n",
       "  <thead>\n",
       "    <tr style=\"text-align: right;\">\n",
       "      <th></th>\n",
       "      <th>Modeles</th>\n",
       "      <th>MAE</th>\n",
       "      <th>MSE</th>\n",
       "      <th>RMSE</th>\n",
       "      <th>R squared</th>\n",
       "    </tr>\n",
       "  </thead>\n",
       "  <tbody>\n",
       "    <tr>\n",
       "      <th>0</th>\n",
       "      <td>Arbre de décision</td>\n",
       "      <td>0.167930</td>\n",
       "      <td>0.268414</td>\n",
       "      <td>0.518087</td>\n",
       "      <td>0.808394</td>\n",
       "    </tr>\n",
       "    <tr>\n",
       "      <th>1</th>\n",
       "      <td>Random forest</td>\n",
       "      <td>0.195284</td>\n",
       "      <td>0.244562</td>\n",
       "      <td>0.494532</td>\n",
       "      <td>0.825420</td>\n",
       "    </tr>\n",
       "  </tbody>\n",
       "</table>\n",
       "</div>"
      ],
      "text/plain": [
       "             Modeles       MAE       MSE      RMSE  R squared\n",
       "0  Arbre de décision  0.167930  0.268414  0.518087   0.808394\n",
       "1      Random forest  0.195284  0.244562  0.494532   0.825420"
      ]
     },
     "execution_count": 101,
     "metadata": {},
     "output_type": "execute_result"
    }
   ],
   "source": [
    "evaluationFinaleOp"
   ]
  },
  {
   "cell_type": "code",
   "execution_count": 102,
   "metadata": {},
   "outputs": [
    {
     "data": {
      "text/html": [
       "<div>\n",
       "<style scoped>\n",
       "    .dataframe tbody tr th:only-of-type {\n",
       "        vertical-align: middle;\n",
       "    }\n",
       "\n",
       "    .dataframe tbody tr th {\n",
       "        vertical-align: top;\n",
       "    }\n",
       "\n",
       "    .dataframe thead th {\n",
       "        text-align: right;\n",
       "    }\n",
       "</style>\n",
       "<table border=\"1\" class=\"dataframe\">\n",
       "  <thead>\n",
       "    <tr style=\"text-align: right;\">\n",
       "      <th></th>\n",
       "      <th>Vrai Y</th>\n",
       "      <th>Y predits</th>\n",
       "    </tr>\n",
       "  </thead>\n",
       "  <tbody>\n",
       "    <tr>\n",
       "      <th>89</th>\n",
       "      <td>1.386294</td>\n",
       "      <td>1.523555</td>\n",
       "    </tr>\n",
       "    <tr>\n",
       "      <th>85</th>\n",
       "      <td>2.484907</td>\n",
       "      <td>2.498216</td>\n",
       "    </tr>\n",
       "    <tr>\n",
       "      <th>355</th>\n",
       "      <td>0.693147</td>\n",
       "      <td>1.018847</td>\n",
       "    </tr>\n",
       "    <tr>\n",
       "      <th>551</th>\n",
       "      <td>3.828641</td>\n",
       "      <td>3.789040</td>\n",
       "    </tr>\n",
       "    <tr>\n",
       "      <th>368</th>\n",
       "      <td>0.693147</td>\n",
       "      <td>1.124176</td>\n",
       "    </tr>\n",
       "    <tr>\n",
       "      <th>...</th>\n",
       "      <td>...</td>\n",
       "      <td>...</td>\n",
       "    </tr>\n",
       "    <tr>\n",
       "      <th>320</th>\n",
       "      <td>2.564949</td>\n",
       "      <td>2.581059</td>\n",
       "    </tr>\n",
       "    <tr>\n",
       "      <th>386</th>\n",
       "      <td>1.791759</td>\n",
       "      <td>1.865628</td>\n",
       "    </tr>\n",
       "    <tr>\n",
       "      <th>663</th>\n",
       "      <td>0.693147</td>\n",
       "      <td>0.705311</td>\n",
       "    </tr>\n",
       "    <tr>\n",
       "      <th>805</th>\n",
       "      <td>3.091042</td>\n",
       "      <td>3.584772</td>\n",
       "    </tr>\n",
       "    <tr>\n",
       "      <th>825</th>\n",
       "      <td>3.091042</td>\n",
       "      <td>3.180960</td>\n",
       "    </tr>\n",
       "  </tbody>\n",
       "</table>\n",
       "<p>142 rows × 2 columns</p>\n",
       "</div>"
      ],
      "text/plain": [
       "       Vrai Y  Y predits\n",
       "89   1.386294   1.523555\n",
       "85   2.484907   2.498216\n",
       "355  0.693147   1.018847\n",
       "551  3.828641   3.789040\n",
       "368  0.693147   1.124176\n",
       "..        ...        ...\n",
       "320  2.564949   2.581059\n",
       "386  1.791759   1.865628\n",
       "663  0.693147   0.705311\n",
       "805  3.091042   3.584772\n",
       "825  3.091042   3.180960\n",
       "\n",
       "[142 rows x 2 columns]"
      ]
     },
     "execution_count": 102,
     "metadata": {},
     "output_type": "execute_result"
    }
   ],
   "source": [
    "RFDFOp=pd.DataFrame({'Vrai Y':y_testOp,'Y predits':y_predictRFOp})\n",
    "RFDFOp"
   ]
  },
  {
   "cell_type": "code",
   "execution_count": 103,
   "metadata": {},
   "outputs": [
    {
     "data": {
      "text/html": [
       "<div>\n",
       "<style scoped>\n",
       "    .dataframe tbody tr th:only-of-type {\n",
       "        vertical-align: middle;\n",
       "    }\n",
       "\n",
       "    .dataframe tbody tr th {\n",
       "        vertical-align: top;\n",
       "    }\n",
       "\n",
       "    .dataframe thead th {\n",
       "        text-align: right;\n",
       "    }\n",
       "</style>\n",
       "<table border=\"1\" class=\"dataframe\">\n",
       "  <thead>\n",
       "    <tr style=\"text-align: right;\">\n",
       "      <th></th>\n",
       "      <th>Vrai Y</th>\n",
       "      <th>Y predits</th>\n",
       "    </tr>\n",
       "  </thead>\n",
       "  <tbody>\n",
       "    <tr>\n",
       "      <th>Vrai Y</th>\n",
       "      <td>1.000000</td>\n",
       "      <td>0.908979</td>\n",
       "    </tr>\n",
       "    <tr>\n",
       "      <th>Y predits</th>\n",
       "      <td>0.908979</td>\n",
       "      <td>1.000000</td>\n",
       "    </tr>\n",
       "  </tbody>\n",
       "</table>\n",
       "</div>"
      ],
      "text/plain": [
       "             Vrai Y  Y predits\n",
       "Vrai Y     1.000000   0.908979\n",
       "Y predits  0.908979   1.000000"
      ]
     },
     "execution_count": 103,
     "metadata": {},
     "output_type": "execute_result"
    }
   ],
   "source": [
    "RFDFOp.corr()"
   ]
  },
  {
   "cell_type": "code",
   "execution_count": 104,
   "metadata": {},
   "outputs": [
    {
     "data": {
      "text/plain": [
       "['modelRFOp.ml']"
      ]
     },
     "execution_count": 104,
     "metadata": {},
     "output_type": "execute_result"
    }
   ],
   "source": [
    "import joblib\n",
    "joblib.dump(modelRFOp,'modelRFOp.ml')"
   ]
  },
  {
   "cell_type": "markdown",
   "metadata": {},
   "source": [
    "# Optimisation avec methodes ensembles"
   ]
  },
  {
   "cell_type": "markdown",
   "metadata": {},
   "source": [
    "Bagging"
   ]
  },
  {
   "cell_type": "code",
   "execution_count": 105,
   "metadata": {},
   "outputs": [],
   "source": [
    "from sklearn.ensemble import ExtraTreesRegressor\n",
    "etr=ExtraTreesRegressor()\n",
    "etr.fit(X_trainOp,y_trainOp)\n",
    "y_predictETR=etr.predict(X_testOp)"
   ]
  },
  {
   "cell_type": "code",
   "execution_count": 106,
   "metadata": {},
   "outputs": [],
   "source": [
    "maeDETR=metrics.mean_absolute_error(y_testOp,y_predictETR)\n",
    "mseETR=metrics.mean_squared_error(y_testOp,y_predictETR)\n",
    "rmsETR=np.sqrt(mseETR)\n",
    "r2ETR=metrics.r2_score(y_testOp,y_predictETR)"
   ]
  },
  {
   "cell_type": "markdown",
   "metadata": {},
   "source": [
    "Boosting"
   ]
  },
  {
   "cell_type": "code",
   "execution_count": 107,
   "metadata": {},
   "outputs": [],
   "source": [
    "#!pip install xgboost"
   ]
  },
  {
   "cell_type": "markdown",
   "metadata": {},
   "source": [
    "stacking"
   ]
  },
  {
   "cell_type": "code",
   "execution_count": 108,
   "metadata": {},
   "outputs": [],
   "source": [
    "#!pip install mlxtend"
   ]
  },
  {
   "cell_type": "code",
   "execution_count": 109,
   "metadata": {},
   "outputs": [],
   "source": [
    "from mlxtend.regressor import StackingRegressor"
   ]
  },
  {
   "cell_type": "code",
   "execution_count": 110,
   "metadata": {},
   "outputs": [],
   "source": [
    "#from sklearn.ensemble import StackingRegressor"
   ]
  },
  {
   "cell_type": "code",
   "execution_count": 111,
   "metadata": {},
   "outputs": [],
   "source": [
    "#base_learners=['dt',DecisionTreeRegressor(),'rf',modelRFOp,'et',etr]\n",
    "#stackingModel=StackingRegressor(estimators=base_learners,final_estimator=modelDTOp)"
   ]
  },
  {
   "cell_type": "code",
   "execution_count": 112,
   "metadata": {},
   "outputs": [],
   "source": [
    "#stackingModel.fit(X_trainOp,y_trainOp)"
   ]
  },
  {
   "cell_type": "code",
   "execution_count": 113,
   "metadata": {},
   "outputs": [],
   "source": [
    "stack=StackingRegressor(regressors=[modelDTOp, modelRFOp, etr],\n",
    "                       meta_regressor=modelDTOp)"
   ]
  },
  {
   "cell_type": "code",
   "execution_count": 114,
   "metadata": {},
   "outputs": [
    {
     "data": {
      "text/plain": [
       "StackingRegressor(meta_regressor=DecisionTreeRegressor(),\n",
       "                  regressors=[DecisionTreeRegressor(), RandomForestRegressor(),\n",
       "                              ExtraTreesRegressor()])"
      ]
     },
     "execution_count": 114,
     "metadata": {},
     "output_type": "execute_result"
    }
   ],
   "source": [
    "stack.fit(X_trainOp,y_trainOp)"
   ]
  },
  {
   "cell_type": "code",
   "execution_count": 115,
   "metadata": {},
   "outputs": [
    {
     "name": "stderr",
     "output_type": "stream",
     "text": [
      "C:\\Users\\ANGEL\\Anaconda3\\lib\\site-packages\\sklearn\\base.py:443: UserWarning: X has feature names, but DecisionTreeRegressor was fitted without feature names\n",
      "  warnings.warn(\n",
      "C:\\Users\\ANGEL\\Anaconda3\\lib\\site-packages\\sklearn\\base.py:443: UserWarning: X has feature names, but RandomForestRegressor was fitted without feature names\n",
      "  warnings.warn(\n",
      "C:\\Users\\ANGEL\\Anaconda3\\lib\\site-packages\\sklearn\\base.py:443: UserWarning: X has feature names, but ExtraTreesRegressor was fitted without feature names\n",
      "  warnings.warn(\n"
     ]
    }
   ],
   "source": [
    "y_predictStack=stack.predict(X_testOp)"
   ]
  },
  {
   "cell_type": "code",
   "execution_count": 116,
   "metadata": {},
   "outputs": [],
   "source": [
    "maeStack=metrics.mean_absolute_error(y_testOp,y_predictStack)\n",
    "mseStack=metrics.mean_squared_error(y_testOp,y_predictStack)\n",
    "rmsStack=np.sqrt(mseStack)\n",
    "r2Stack=metrics.r2_score(y_testOp,y_predictStack)"
   ]
  },
  {
   "cell_type": "code",
   "execution_count": 117,
   "metadata": {},
   "outputs": [],
   "source": [
    "modelesOp=['Arbre de décision','Random forest', 'Extra Trees', 'Stacking']\n",
    "maeOp=[maeDTOp,maeRFOp, maeDETR, maeStack]\n",
    "mseOp=[mseDTOp,mseRFOp, mseETR, mseStack]\n",
    "rmseOp=[rmseDTOp,rmseRFOp, rmsETR, rmsStack]\n",
    "r2Op=[r2DTOp,r2RFOp, r2ETR,r2Stack]\n",
    "evaluationFinaleOp=pd.DataFrame({'Modeles':modelesOp,'MAE':maeOp,'MSE':mseOp,\n",
    "                              'RMSE':rmseOp,'R squared':r2Op})"
   ]
  },
  {
   "cell_type": "code",
   "execution_count": 118,
   "metadata": {},
   "outputs": [
    {
     "data": {
      "text/html": [
       "<div>\n",
       "<style scoped>\n",
       "    .dataframe tbody tr th:only-of-type {\n",
       "        vertical-align: middle;\n",
       "    }\n",
       "\n",
       "    .dataframe tbody tr th {\n",
       "        vertical-align: top;\n",
       "    }\n",
       "\n",
       "    .dataframe thead th {\n",
       "        text-align: right;\n",
       "    }\n",
       "</style>\n",
       "<table border=\"1\" class=\"dataframe\">\n",
       "  <thead>\n",
       "    <tr style=\"text-align: right;\">\n",
       "      <th></th>\n",
       "      <th>Modeles</th>\n",
       "      <th>MAE</th>\n",
       "      <th>MSE</th>\n",
       "      <th>RMSE</th>\n",
       "      <th>R squared</th>\n",
       "    </tr>\n",
       "  </thead>\n",
       "  <tbody>\n",
       "    <tr>\n",
       "      <th>0</th>\n",
       "      <td>Arbre de décision</td>\n",
       "      <td>0.167930</td>\n",
       "      <td>0.268414</td>\n",
       "      <td>0.518087</td>\n",
       "      <td>0.808394</td>\n",
       "    </tr>\n",
       "    <tr>\n",
       "      <th>1</th>\n",
       "      <td>Random forest</td>\n",
       "      <td>0.195284</td>\n",
       "      <td>0.244562</td>\n",
       "      <td>0.494532</td>\n",
       "      <td>0.825420</td>\n",
       "    </tr>\n",
       "    <tr>\n",
       "      <th>2</th>\n",
       "      <td>Extra Trees</td>\n",
       "      <td>0.170325</td>\n",
       "      <td>0.266361</td>\n",
       "      <td>0.516102</td>\n",
       "      <td>0.809859</td>\n",
       "    </tr>\n",
       "    <tr>\n",
       "      <th>3</th>\n",
       "      <td>Stacking</td>\n",
       "      <td>0.171323</td>\n",
       "      <td>0.264839</td>\n",
       "      <td>0.514625</td>\n",
       "      <td>0.810946</td>\n",
       "    </tr>\n",
       "  </tbody>\n",
       "</table>\n",
       "</div>"
      ],
      "text/plain": [
       "             Modeles       MAE       MSE      RMSE  R squared\n",
       "0  Arbre de décision  0.167930  0.268414  0.518087   0.808394\n",
       "1      Random forest  0.195284  0.244562  0.494532   0.825420\n",
       "2        Extra Trees  0.170325  0.266361  0.516102   0.809859\n",
       "3           Stacking  0.171323  0.264839  0.514625   0.810946"
      ]
     },
     "execution_count": 118,
     "metadata": {},
     "output_type": "execute_result"
    }
   ],
   "source": [
    "evaluationFinaleOp"
   ]
  },
  {
   "cell_type": "code",
   "execution_count": null,
   "metadata": {},
   "outputs": [],
   "source": []
  }
 ],
 "metadata": {
  "kernelspec": {
   "display_name": "Python 3 (ipykernel)",
   "language": "python",
   "name": "python3"
  },
  "language_info": {
   "codemirror_mode": {
    "name": "ipython",
    "version": 3
   },
   "file_extension": ".py",
   "mimetype": "text/x-python",
   "name": "python",
   "nbconvert_exporter": "python",
   "pygments_lexer": "ipython3",
   "version": "3.9.12"
  }
 },
 "nbformat": 4,
 "nbformat_minor": 4
}
